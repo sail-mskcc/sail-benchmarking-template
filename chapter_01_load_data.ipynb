{
 "cells": [
  {
   "cell_type": "markdown",
   "id": "54308a19",
   "metadata": {},
   "source": [
    "# Chapter 01 — Loading and Organizing the Data\n",
    "\n",
    "### Objective\n",
    "\n",
    "In this chapter, we load all single-cell or single-nucleus RNA-seq datasets required for benchmarking the protocols under comparison:\n",
    "\n",
    "This includes:\n",
    "\n",
    "- Locating the data on the shared filesystem (Iris)\n",
    "- Loading raw count matrices (e.g., `filtered_feature_bc_matrix.h5` from 10X)\n",
    "- Loading data into `AnnData` objects and saving them to a local data directory\n",
    "\n",
    "<br>\n",
    "\n",
    "\n",
    "### Data Source\n",
    "\n",
    "The data for this benchmarking project is stored on the **Iris** HPC filesystem under:\n",
    "\n",
    "> **FILL IN HERE**  \n",
    "> Include where the data is located for downstream analysis\n",
    "\n",
    "**EXAMPLE (DELETE THIS SECTION BEFORE FINALIZING):**  \n",
    "In this example, our data is located at :\n",
    "`/data1/collab002/sail/isabl/datalake/prod/010/collaborators/SAIL/projects/singulator_debris_removal_and/experiments`\n",
    "We will be working with the data under identifier `MB-4027_*`\n",
    "\n",
    "\n",
    "<br>\n",
    "\n",
    "\n",
    "### Create Conda Environment for Analysis\n",
    "\n",
    "To ensure reproducibility and consistent dependency management, we use a Conda environment for all analyses in this benchmarking project.\n",
    "\n",
    "The environment includes key packages for single-cell RNA-seq data handling, visualization, and benchmarking, including:\n",
    "\n",
    "- `scanpy`\n",
    "- `pandas`, `numpy`, `matplotlib`, `seaborn`\n",
    "- `ipykernel`\n",
    "  \n",
    "An `env.yml` file is included in this directory with all required dependencies.\n",
    "\n",
    "#### Step 1: Create the Environment\n",
    "\n",
    "You can create the environment using `mamba` (recommended) or `conda`. An `env.yml` file is provided for you within this directory with all the prerequisites for performing the analysis in this book. The commands below allow you to create your environment:\n",
    "\n"
   ]
  },
  {
   "cell_type": "code",
   "execution_count": null,
   "id": "75b999d4",
   "metadata": {},
   "outputs": [],
   "source": [
    "%%bash\n",
    "\n",
    "# Recommended (faster)\n",
    "mamba env create -f env.yml\n",
    "\n",
    "# Alternatively, use conda\n",
    "conda env create -f env.yml`"
   ]
  },
  {
   "cell_type": "markdown",
   "id": "a149a461",
   "metadata": {},
   "source": [
    "\n",
    "#### Step 2: Select the Kernel\n",
    "\n",
    "Once the environment is created, start JupyterLab or Jupyter Notebook and select the appropriate kernel (e.g., `benchmarking_template`) from the **top-right kernel selector**.\n",
    "\n",
    "If the kernel does not appear, run the following in your terminal to register it:"
   ]
  },
  {
   "cell_type": "code",
   "execution_count": 13,
   "id": "be3ffcda",
   "metadata": {},
   "outputs": [
    {
     "name": "stdout",
     "output_type": "stream",
     "text": [
      "Installed kernelspec benchmarking_template in /home/ghoshr/.local/share/jupyter/kernels/benchmarking_template\n"
     ]
    }
   ],
   "source": [
    "%%bash\n",
    "\n",
    "python -m ipykernel install --user --name=benchmarking_template"
   ]
  },
  {
   "cell_type": "markdown",
   "id": "af054565",
   "metadata": {},
   "source": [
    "Once the environment is created, start JupyterLab or Jupyter Notebook and select the appropriate kernel (e.g., `benchmarking_template`) from the **top-right kernel selector**.\n",
    "\n",
    "If the kernel does not appear, run the following in your terminal to register it:"
   ]
  },
  {
   "cell_type": "markdown",
   "id": "0b954578",
   "metadata": {},
   "source": [
    "#### Step 3: Update config.py\n",
    "\n",
    "Within ./utils, there is a file called config.py that we will be using to configure file paths and metadata. Be sure to update this file before doing any downstream analysis.\n"
   ]
  },
  {
   "cell_type": "code",
   "execution_count": null,
   "id": "29e355bf",
   "metadata": {},
   "outputs": [],
   "source": []
  },
  {
   "cell_type": "markdown",
   "id": "f412eeea",
   "metadata": {},
   "source": [
    "#### Step 4: Copy data from Original Source to Local Data Directory (optional)\n",
    "\n",
    "In order to avoid modifying the original data, we can use the following to command to a local data directory. If the files are very large, you can modify config.py to read from the original source. Alternatively, you can create symlinks to the data using `ln -s` but be aware that modifications to the data in the local directory may still affect the files that are being linked to."
   ]
  },
  {
   "cell_type": "markdown",
   "id": "1fbb9367",
   "metadata": {},
   "source": [
    "##### Run Autoreload (Automically Reloads Edited Module Files)"
   ]
  },
  {
   "cell_type": "code",
   "execution_count": 2,
   "id": "2304e737",
   "metadata": {},
   "outputs": [],
   "source": [
    "%load_ext autoreload\n",
    "%autoreload 2"
   ]
  },
  {
   "cell_type": "markdown",
   "id": "d0fc9821",
   "metadata": {},
   "source": [
    "##### Imports"
   ]
  },
  {
   "cell_type": "code",
   "execution_count": null,
   "id": "1d73c97c",
   "metadata": {},
   "outputs": [],
   "source": [
    "import os\n",
    "import subprocess\n",
    "\n",
    "import scanpy as sc\n",
    "\n",
    "import utils.config as config"
   ]
  },
  {
   "cell_type": "markdown",
   "id": "fd3a900b",
   "metadata": {},
   "source": [
    "##### Copy Code Snippet\n",
    "\n",
    "We're going to keep these files in a \"read only\" directory to ensure that we aren't modifying or deleting files we're going to need for downstream analysis."
   ]
  },
  {
   "cell_type": "code",
   "execution_count": null,
   "id": "b7031c28",
   "metadata": {},
   "outputs": [
    {
     "name": "stdout",
     "output_type": "stream",
     "text": [
      "Copied: MB-4027_SL_T/analyses/CellRangerGex-9.0.0-MB-4027_SL_T/README.pdf\n",
      "Copied: MB-4027_SL_T/analyses/CellRangerGex-9.0.0-MB-4027_SL_T/outputs/metrics_summary.csv\n",
      "Copied: MB-4027_SL_T/analyses/CellRangerGex-9.0.0-MB-4027_SL_T/outputs/filtered_feature_bc_matrix.h5\n",
      "Copied: MB-4027_SL_T/analyses/CellRangerGex-9.0.0-MB-4027_SL_T/outputs/analysis.tgz\n",
      "Copied: MB-4027_SL_T/analyses/CellRangerGex-9.0.0-MB-4027_SL_T/outputs/possorted_genome_bam.bam\n",
      "Copied: MB-4027_SL_T/analyses/CellRangerGex-9.0.0-MB-4027_SL_T/outputs/molecule_info.h5\n",
      "Copied: MB-4027_SL_T/analyses/CellRangerGex-9.0.0-MB-4027_SL_T/outputs/possorted_genome_bam.bam.bai\n",
      "Copied: MB-4027_SL_T/analyses/CellRangerGex-9.0.0-MB-4027_SL_T/outputs/web_summary.html\n",
      "Copied: MB-4027_SL_T/analyses/CellRangerGex-9.0.0-MB-4027_SL_T/outputs/cloupe.cloupe\n",
      "Copied: MB-4027_SL_T/analyses/CellRangerGex-9.0.0-MB-4027_SL_T/outputs/paths.json\n",
      "Copied: MB-4027_SL_T/analyses/CellRangerGex-9.0.0-MB-4027_SL_T/outputs/raw_feature_bc_matrix.h5\n",
      "Copied: MB-4027_SL_T/analyses/CellRangerGex-9.0.0-MB-4027_SL_T/outputs/filtered_feature_bc_matrix/barcodes.tsv.gz\n",
      "Copied: MB-4027_SL_T/analyses/CellRangerGex-9.0.0-MB-4027_SL_T/outputs/filtered_feature_bc_matrix/matrix.mtx.gz\n",
      "Copied: MB-4027_SL_T/analyses/CellRangerGex-9.0.0-MB-4027_SL_T/outputs/filtered_feature_bc_matrix/features.tsv.gz\n",
      "Copied: MB-4027_SL_T/analyses/CellRangerGex-9.0.0-MB-4027_SL_T/outputs/analysis/pca/gene_expression_10_components/features_selected.csv\n",
      "Copied: MB-4027_SL_T/analyses/CellRangerGex-9.0.0-MB-4027_SL_T/outputs/analysis/pca/gene_expression_10_components/components.csv\n",
      "Copied: MB-4027_SL_T/analyses/CellRangerGex-9.0.0-MB-4027_SL_T/outputs/analysis/pca/gene_expression_10_components/projection.csv\n",
      "Copied: MB-4027_SL_T/analyses/CellRangerGex-9.0.0-MB-4027_SL_T/outputs/analysis/pca/gene_expression_10_components/dispersion.csv\n",
      "Copied: MB-4027_SL_T/analyses/CellRangerGex-9.0.0-MB-4027_SL_T/outputs/analysis/pca/gene_expression_10_components/variance.csv\n",
      "Copied: MB-4027_SL_T/analyses/CellRangerGex-9.0.0-MB-4027_SL_T/outputs/analysis/diffexp/gene_expression_kmeans_7_clusters/differential_expression.csv\n",
      "Copied: MB-4027_SL_T/analyses/CellRangerGex-9.0.0-MB-4027_SL_T/outputs/analysis/diffexp/gene_expression_kmeans_6_clusters/differential_expression.csv\n",
      "Copied: MB-4027_SL_T/analyses/CellRangerGex-9.0.0-MB-4027_SL_T/outputs/analysis/diffexp/gene_expression_kmeans_8_clusters/differential_expression.csv\n",
      "Copied: MB-4027_SL_T/analyses/CellRangerGex-9.0.0-MB-4027_SL_T/outputs/analysis/diffexp/gene_expression_graphclust/differential_expression.csv\n",
      "Copied: MB-4027_SL_T/analyses/CellRangerGex-9.0.0-MB-4027_SL_T/outputs/analysis/diffexp/gene_expression_kmeans_5_clusters/differential_expression.csv\n",
      "Copied: MB-4027_SL_T/analyses/CellRangerGex-9.0.0-MB-4027_SL_T/outputs/analysis/diffexp/gene_expression_kmeans_10_clusters/differential_expression.csv\n",
      "Copied: MB-4027_SL_T/analyses/CellRangerGex-9.0.0-MB-4027_SL_T/outputs/analysis/diffexp/gene_expression_kmeans_4_clusters/differential_expression.csv\n",
      "Copied: MB-4027_SL_T/analyses/CellRangerGex-9.0.0-MB-4027_SL_T/outputs/analysis/diffexp/gene_expression_kmeans_2_clusters/differential_expression.csv\n",
      "Copied: MB-4027_SL_T/analyses/CellRangerGex-9.0.0-MB-4027_SL_T/outputs/analysis/diffexp/gene_expression_kmeans_9_clusters/differential_expression.csv\n",
      "Copied: MB-4027_SL_T/analyses/CellRangerGex-9.0.0-MB-4027_SL_T/outputs/analysis/diffexp/gene_expression_kmeans_3_clusters/differential_expression.csv\n",
      "Copied: MB-4027_SL_T/analyses/CellRangerGex-9.0.0-MB-4027_SL_T/outputs/analysis/umap/gene_expression_2_components/projection.csv\n",
      "Copied: MB-4027_SL_T/analyses/CellRangerGex-9.0.0-MB-4027_SL_T/outputs/analysis/clustering/gene_expression_kmeans_5_clusters/clusters.csv\n",
      "Copied: MB-4027_SL_T/analyses/CellRangerGex-9.0.0-MB-4027_SL_T/outputs/analysis/clustering/gene_expression_kmeans_8_clusters/clusters.csv\n",
      "Copied: MB-4027_SL_T/analyses/CellRangerGex-9.0.0-MB-4027_SL_T/outputs/analysis/clustering/gene_expression_kmeans_7_clusters/clusters.csv\n",
      "Copied: MB-4027_SL_T/analyses/CellRangerGex-9.0.0-MB-4027_SL_T/outputs/analysis/clustering/gene_expression_kmeans_4_clusters/clusters.csv\n",
      "Copied: MB-4027_SL_T/analyses/CellRangerGex-9.0.0-MB-4027_SL_T/outputs/analysis/clustering/gene_expression_kmeans_9_clusters/clusters.csv\n",
      "Copied: MB-4027_SL_T/analyses/CellRangerGex-9.0.0-MB-4027_SL_T/outputs/analysis/clustering/gene_expression_graphclust/clusters.csv\n",
      "Copied: MB-4027_SL_T/analyses/CellRangerGex-9.0.0-MB-4027_SL_T/outputs/analysis/clustering/gene_expression_kmeans_6_clusters/clusters.csv\n",
      "Copied: MB-4027_SL_T/analyses/CellRangerGex-9.0.0-MB-4027_SL_T/outputs/analysis/clustering/gene_expression_kmeans_10_clusters/clusters.csv\n",
      "Copied: MB-4027_SL_T/analyses/CellRangerGex-9.0.0-MB-4027_SL_T/outputs/analysis/clustering/gene_expression_kmeans_3_clusters/clusters.csv\n",
      "Copied: MB-4027_SL_T/analyses/CellRangerGex-9.0.0-MB-4027_SL_T/outputs/analysis/clustering/gene_expression_kmeans_2_clusters/clusters.csv\n",
      "Copied: MB-4027_SL_T/analyses/CellRangerGex-9.0.0-MB-4027_SL_T/outputs/analysis/tsne/gene_expression_2_components/projection.csv\n",
      "Copied: MB-4027_SL_T/analyses/CellRangerGex-9.0.0-MB-4027_SL_T/outputs/raw_feature_bc_matrix/barcodes.tsv.gz\n",
      "Copied: MB-4027_SL_T/analyses/CellRangerGex-9.0.0-MB-4027_SL_T/outputs/raw_feature_bc_matrix/matrix.mtx.gz\n",
      "Copied: MB-4027_SL_T/analyses/CellRangerGex-9.0.0-MB-4027_SL_T/outputs/raw_feature_bc_matrix/features.tsv.gz\n",
      "Copied: MB-4027_SL_N/analyses/CellRangerGex-9.0.0-MB-4027_SL_N/README.pdf\n",
      "Copied: MB-4027_SL_N/analyses/CellRangerGex-9.0.0-MB-4027_SL_N/outputs/possorted_genome_bam.bam\n",
      "Copied: MB-4027_SL_N/analyses/CellRangerGex-9.0.0-MB-4027_SL_N/outputs/analysis.tgz\n",
      "Copied: MB-4027_SL_N/analyses/CellRangerGex-9.0.0-MB-4027_SL_N/outputs/possorted_genome_bam.bam.bai\n",
      "Copied: MB-4027_SL_N/analyses/CellRangerGex-9.0.0-MB-4027_SL_N/outputs/filtered_feature_bc_matrix.h5\n",
      "Copied: MB-4027_SL_N/analyses/CellRangerGex-9.0.0-MB-4027_SL_N/outputs/cloupe.cloupe\n",
      "Copied: MB-4027_SL_N/analyses/CellRangerGex-9.0.0-MB-4027_SL_N/outputs/metrics_summary.csv\n",
      "Copied: MB-4027_SL_N/analyses/CellRangerGex-9.0.0-MB-4027_SL_N/outputs/molecule_info.h5\n",
      "Copied: MB-4027_SL_N/analyses/CellRangerGex-9.0.0-MB-4027_SL_N/outputs/raw_feature_bc_matrix.h5\n",
      "Copied: MB-4027_SL_N/analyses/CellRangerGex-9.0.0-MB-4027_SL_N/outputs/paths.json\n",
      "Copied: MB-4027_SL_N/analyses/CellRangerGex-9.0.0-MB-4027_SL_N/outputs/web_summary.html\n",
      "Copied: MB-4027_SL_N/analyses/CellRangerGex-9.0.0-MB-4027_SL_N/outputs/raw_feature_bc_matrix/barcodes.tsv.gz\n",
      "Copied: MB-4027_SL_N/analyses/CellRangerGex-9.0.0-MB-4027_SL_N/outputs/raw_feature_bc_matrix/matrix.mtx.gz\n",
      "Copied: MB-4027_SL_N/analyses/CellRangerGex-9.0.0-MB-4027_SL_N/outputs/raw_feature_bc_matrix/features.tsv.gz\n",
      "Copied: MB-4027_SL_N/analyses/CellRangerGex-9.0.0-MB-4027_SL_N/outputs/filtered_feature_bc_matrix/matrix.mtx.gz\n",
      "Copied: MB-4027_SL_N/analyses/CellRangerGex-9.0.0-MB-4027_SL_N/outputs/filtered_feature_bc_matrix/features.tsv.gz\n",
      "Copied: MB-4027_SL_N/analyses/CellRangerGex-9.0.0-MB-4027_SL_N/outputs/filtered_feature_bc_matrix/barcodes.tsv.gz\n",
      "Copied: MB-4027_SL_N/analyses/CellRangerGex-9.0.0-MB-4027_SL_N/outputs/analysis/clustering/gene_expression_kmeans_8_clusters/clusters.csv\n",
      "Copied: MB-4027_SL_N/analyses/CellRangerGex-9.0.0-MB-4027_SL_N/outputs/analysis/clustering/gene_expression_kmeans_5_clusters/clusters.csv\n",
      "Copied: MB-4027_SL_N/analyses/CellRangerGex-9.0.0-MB-4027_SL_N/outputs/analysis/clustering/gene_expression_kmeans_3_clusters/clusters.csv\n",
      "Copied: MB-4027_SL_N/analyses/CellRangerGex-9.0.0-MB-4027_SL_N/outputs/analysis/clustering/gene_expression_kmeans_2_clusters/clusters.csv\n",
      "Copied: MB-4027_SL_N/analyses/CellRangerGex-9.0.0-MB-4027_SL_N/outputs/analysis/clustering/gene_expression_kmeans_7_clusters/clusters.csv\n",
      "Copied: MB-4027_SL_N/analyses/CellRangerGex-9.0.0-MB-4027_SL_N/outputs/analysis/clustering/gene_expression_kmeans_10_clusters/clusters.csv\n",
      "Copied: MB-4027_SL_N/analyses/CellRangerGex-9.0.0-MB-4027_SL_N/outputs/analysis/clustering/gene_expression_graphclust/clusters.csv\n",
      "Copied: MB-4027_SL_N/analyses/CellRangerGex-9.0.0-MB-4027_SL_N/outputs/analysis/clustering/gene_expression_kmeans_4_clusters/clusters.csv\n",
      "Copied: MB-4027_SL_N/analyses/CellRangerGex-9.0.0-MB-4027_SL_N/outputs/analysis/clustering/gene_expression_kmeans_6_clusters/clusters.csv\n",
      "Copied: MB-4027_SL_N/analyses/CellRangerGex-9.0.0-MB-4027_SL_N/outputs/analysis/clustering/gene_expression_kmeans_9_clusters/clusters.csv\n",
      "Copied: MB-4027_SL_N/analyses/CellRangerGex-9.0.0-MB-4027_SL_N/outputs/analysis/umap/gene_expression_2_components/projection.csv\n",
      "Copied: MB-4027_SL_N/analyses/CellRangerGex-9.0.0-MB-4027_SL_N/outputs/analysis/tsne/gene_expression_2_components/projection.csv\n",
      "Copied: MB-4027_SL_N/analyses/CellRangerGex-9.0.0-MB-4027_SL_N/outputs/analysis/pca/gene_expression_10_components/variance.csv\n",
      "Copied: MB-4027_SL_N/analyses/CellRangerGex-9.0.0-MB-4027_SL_N/outputs/analysis/pca/gene_expression_10_components/projection.csv\n",
      "Copied: MB-4027_SL_N/analyses/CellRangerGex-9.0.0-MB-4027_SL_N/outputs/analysis/pca/gene_expression_10_components/features_selected.csv\n",
      "Copied: MB-4027_SL_N/analyses/CellRangerGex-9.0.0-MB-4027_SL_N/outputs/analysis/pca/gene_expression_10_components/dispersion.csv\n",
      "Copied: MB-4027_SL_N/analyses/CellRangerGex-9.0.0-MB-4027_SL_N/outputs/analysis/pca/gene_expression_10_components/components.csv\n",
      "Copied: MB-4027_SL_N/analyses/CellRangerGex-9.0.0-MB-4027_SL_N/outputs/analysis/diffexp/gene_expression_kmeans_2_clusters/differential_expression.csv\n",
      "Copied: MB-4027_SL_N/analyses/CellRangerGex-9.0.0-MB-4027_SL_N/outputs/analysis/diffexp/gene_expression_kmeans_9_clusters/differential_expression.csv\n",
      "Copied: MB-4027_SL_N/analyses/CellRangerGex-9.0.0-MB-4027_SL_N/outputs/analysis/diffexp/gene_expression_graphclust/differential_expression.csv\n",
      "Copied: MB-4027_SL_N/analyses/CellRangerGex-9.0.0-MB-4027_SL_N/outputs/analysis/diffexp/gene_expression_kmeans_3_clusters/differential_expression.csv\n",
      "Copied: MB-4027_SL_N/analyses/CellRangerGex-9.0.0-MB-4027_SL_N/outputs/analysis/diffexp/gene_expression_kmeans_7_clusters/differential_expression.csv\n",
      "Copied: MB-4027_SL_N/analyses/CellRangerGex-9.0.0-MB-4027_SL_N/outputs/analysis/diffexp/gene_expression_kmeans_10_clusters/differential_expression.csv\n",
      "Copied: MB-4027_SL_N/analyses/CellRangerGex-9.0.0-MB-4027_SL_N/outputs/analysis/diffexp/gene_expression_kmeans_4_clusters/differential_expression.csv\n",
      "Copied: MB-4027_SL_N/analyses/CellRangerGex-9.0.0-MB-4027_SL_N/outputs/analysis/diffexp/gene_expression_kmeans_6_clusters/differential_expression.csv\n",
      "Copied: MB-4027_SL_N/analyses/CellRangerGex-9.0.0-MB-4027_SL_N/outputs/analysis/diffexp/gene_expression_kmeans_5_clusters/differential_expression.csv\n",
      "Copied: MB-4027_SL_N/analyses/CellRangerGex-9.0.0-MB-4027_SL_N/outputs/analysis/diffexp/gene_expression_kmeans_8_clusters/differential_expression.csv\n",
      "Copied: MB-4027_SF_N/analyses/CellRangerGex-9.0.0-MB-4027_SF_N/README.pdf\n",
      "Copied: MB-4027_SF_N/analyses/CellRangerGex-9.0.0-MB-4027_SF_N/outputs/analysis.tgz\n",
      "Copied: MB-4027_SF_N/analyses/CellRangerGex-9.0.0-MB-4027_SF_N/outputs/filtered_feature_bc_matrix.h5\n",
      "Copied: MB-4027_SF_N/analyses/CellRangerGex-9.0.0-MB-4027_SF_N/outputs/raw_feature_bc_matrix.h5\n",
      "Copied: MB-4027_SF_N/analyses/CellRangerGex-9.0.0-MB-4027_SF_N/outputs/possorted_genome_bam.bam.bai\n",
      "Copied: MB-4027_SF_N/analyses/CellRangerGex-9.0.0-MB-4027_SF_N/outputs/web_summary.html\n",
      "Copied: MB-4027_SF_N/analyses/CellRangerGex-9.0.0-MB-4027_SF_N/outputs/molecule_info.h5\n",
      "Copied: MB-4027_SF_N/analyses/CellRangerGex-9.0.0-MB-4027_SF_N/outputs/possorted_genome_bam.bam\n",
      "Copied: MB-4027_SF_N/analyses/CellRangerGex-9.0.0-MB-4027_SF_N/outputs/cloupe.cloupe\n",
      "Copied: MB-4027_SF_N/analyses/CellRangerGex-9.0.0-MB-4027_SF_N/outputs/paths.json\n",
      "Copied: MB-4027_SF_N/analyses/CellRangerGex-9.0.0-MB-4027_SF_N/outputs/metrics_summary.csv\n",
      "Copied: MB-4027_SF_N/analyses/CellRangerGex-9.0.0-MB-4027_SF_N/outputs/analysis/diffexp/gene_expression_kmeans_5_clusters/differential_expression.csv\n",
      "Copied: MB-4027_SF_N/analyses/CellRangerGex-9.0.0-MB-4027_SF_N/outputs/analysis/diffexp/gene_expression_kmeans_6_clusters/differential_expression.csv\n",
      "Copied: MB-4027_SF_N/analyses/CellRangerGex-9.0.0-MB-4027_SF_N/outputs/analysis/diffexp/gene_expression_kmeans_9_clusters/differential_expression.csv\n",
      "Copied: MB-4027_SF_N/analyses/CellRangerGex-9.0.0-MB-4027_SF_N/outputs/analysis/diffexp/gene_expression_kmeans_2_clusters/differential_expression.csv\n",
      "Copied: MB-4027_SF_N/analyses/CellRangerGex-9.0.0-MB-4027_SF_N/outputs/analysis/diffexp/gene_expression_kmeans_10_clusters/differential_expression.csv\n",
      "Copied: MB-4027_SF_N/analyses/CellRangerGex-9.0.0-MB-4027_SF_N/outputs/analysis/diffexp/gene_expression_kmeans_7_clusters/differential_expression.csv\n",
      "Copied: MB-4027_SF_N/analyses/CellRangerGex-9.0.0-MB-4027_SF_N/outputs/analysis/diffexp/gene_expression_kmeans_8_clusters/differential_expression.csv\n",
      "Copied: MB-4027_SF_N/analyses/CellRangerGex-9.0.0-MB-4027_SF_N/outputs/analysis/diffexp/gene_expression_graphclust/differential_expression.csv\n",
      "Copied: MB-4027_SF_N/analyses/CellRangerGex-9.0.0-MB-4027_SF_N/outputs/analysis/diffexp/gene_expression_kmeans_3_clusters/differential_expression.csv\n",
      "Copied: MB-4027_SF_N/analyses/CellRangerGex-9.0.0-MB-4027_SF_N/outputs/analysis/diffexp/gene_expression_kmeans_4_clusters/differential_expression.csv\n",
      "Copied: MB-4027_SF_N/analyses/CellRangerGex-9.0.0-MB-4027_SF_N/outputs/analysis/umap/gene_expression_2_components/projection.csv\n",
      "Copied: MB-4027_SF_N/analyses/CellRangerGex-9.0.0-MB-4027_SF_N/outputs/analysis/pca/gene_expression_10_components/variance.csv\n",
      "Copied: MB-4027_SF_N/analyses/CellRangerGex-9.0.0-MB-4027_SF_N/outputs/analysis/pca/gene_expression_10_components/features_selected.csv\n",
      "Copied: MB-4027_SF_N/analyses/CellRangerGex-9.0.0-MB-4027_SF_N/outputs/analysis/pca/gene_expression_10_components/projection.csv\n",
      "Copied: MB-4027_SF_N/analyses/CellRangerGex-9.0.0-MB-4027_SF_N/outputs/analysis/pca/gene_expression_10_components/dispersion.csv\n",
      "Copied: MB-4027_SF_N/analyses/CellRangerGex-9.0.0-MB-4027_SF_N/outputs/analysis/pca/gene_expression_10_components/components.csv\n",
      "Copied: MB-4027_SF_N/analyses/CellRangerGex-9.0.0-MB-4027_SF_N/outputs/analysis/clustering/gene_expression_kmeans_8_clusters/clusters.csv\n",
      "Copied: MB-4027_SF_N/analyses/CellRangerGex-9.0.0-MB-4027_SF_N/outputs/analysis/clustering/gene_expression_kmeans_6_clusters/clusters.csv\n",
      "Copied: MB-4027_SF_N/analyses/CellRangerGex-9.0.0-MB-4027_SF_N/outputs/analysis/clustering/gene_expression_kmeans_7_clusters/clusters.csv\n",
      "Copied: MB-4027_SF_N/analyses/CellRangerGex-9.0.0-MB-4027_SF_N/outputs/analysis/clustering/gene_expression_kmeans_4_clusters/clusters.csv\n",
      "Copied: MB-4027_SF_N/analyses/CellRangerGex-9.0.0-MB-4027_SF_N/outputs/analysis/clustering/gene_expression_graphclust/clusters.csv\n",
      "Copied: MB-4027_SF_N/analyses/CellRangerGex-9.0.0-MB-4027_SF_N/outputs/analysis/clustering/gene_expression_kmeans_2_clusters/clusters.csv\n",
      "Copied: MB-4027_SF_N/analyses/CellRangerGex-9.0.0-MB-4027_SF_N/outputs/analysis/clustering/gene_expression_kmeans_10_clusters/clusters.csv\n",
      "Copied: MB-4027_SF_N/analyses/CellRangerGex-9.0.0-MB-4027_SF_N/outputs/analysis/clustering/gene_expression_kmeans_9_clusters/clusters.csv\n",
      "Copied: MB-4027_SF_N/analyses/CellRangerGex-9.0.0-MB-4027_SF_N/outputs/analysis/clustering/gene_expression_kmeans_5_clusters/clusters.csv\n",
      "Copied: MB-4027_SF_N/analyses/CellRangerGex-9.0.0-MB-4027_SF_N/outputs/analysis/clustering/gene_expression_kmeans_3_clusters/clusters.csv\n",
      "Copied: MB-4027_SF_N/analyses/CellRangerGex-9.0.0-MB-4027_SF_N/outputs/analysis/tsne/gene_expression_2_components/projection.csv\n",
      "Copied: MB-4027_SF_N/analyses/CellRangerGex-9.0.0-MB-4027_SF_N/outputs/raw_feature_bc_matrix/matrix.mtx.gz\n",
      "Copied: MB-4027_SF_N/analyses/CellRangerGex-9.0.0-MB-4027_SF_N/outputs/raw_feature_bc_matrix/features.tsv.gz\n",
      "Copied: MB-4027_SF_N/analyses/CellRangerGex-9.0.0-MB-4027_SF_N/outputs/raw_feature_bc_matrix/barcodes.tsv.gz\n",
      "Copied: MB-4027_SF_N/analyses/CellRangerGex-9.0.0-MB-4027_SF_N/outputs/filtered_feature_bc_matrix/matrix.mtx.gz\n",
      "Copied: MB-4027_SF_N/analyses/CellRangerGex-9.0.0-MB-4027_SF_N/outputs/filtered_feature_bc_matrix/features.tsv.gz\n",
      "Copied: MB-4027_SF_N/analyses/CellRangerGex-9.0.0-MB-4027_SF_N/outputs/filtered_feature_bc_matrix/barcodes.tsv.gz\n",
      "Copied: MB-4027_SF_LN/analyses/CellRangerGex-9.0.0-MB-4027_SF_LN/README.pdf\n",
      "Copied: MB-4027_SF_LN/analyses/CellRangerGex-9.0.0-MB-4027_SF_LN/outputs/filtered_feature_bc_matrix.h5\n",
      "Copied: MB-4027_SF_LN/analyses/CellRangerGex-9.0.0-MB-4027_SF_LN/outputs/paths.json\n",
      "Copied: MB-4027_SF_LN/analyses/CellRangerGex-9.0.0-MB-4027_SF_LN/outputs/analysis.tgz\n",
      "Copied: MB-4027_SF_LN/analyses/CellRangerGex-9.0.0-MB-4027_SF_LN/outputs/web_summary.html\n",
      "Copied: MB-4027_SF_LN/analyses/CellRangerGex-9.0.0-MB-4027_SF_LN/outputs/possorted_genome_bam.bam\n",
      "Copied: MB-4027_SF_LN/analyses/CellRangerGex-9.0.0-MB-4027_SF_LN/outputs/metrics_summary.csv\n",
      "Copied: MB-4027_SF_LN/analyses/CellRangerGex-9.0.0-MB-4027_SF_LN/outputs/raw_feature_bc_matrix.h5\n",
      "Copied: MB-4027_SF_LN/analyses/CellRangerGex-9.0.0-MB-4027_SF_LN/outputs/cloupe.cloupe\n",
      "Copied: MB-4027_SF_LN/analyses/CellRangerGex-9.0.0-MB-4027_SF_LN/outputs/molecule_info.h5\n",
      "Copied: MB-4027_SF_LN/analyses/CellRangerGex-9.0.0-MB-4027_SF_LN/outputs/possorted_genome_bam.bam.bai\n",
      "Copied: MB-4027_SF_LN/analyses/CellRangerGex-9.0.0-MB-4027_SF_LN/outputs/analysis/umap/gene_expression_2_components/projection.csv\n",
      "Copied: MB-4027_SF_LN/analyses/CellRangerGex-9.0.0-MB-4027_SF_LN/outputs/analysis/clustering/gene_expression_kmeans_7_clusters/clusters.csv\n",
      "Copied: MB-4027_SF_LN/analyses/CellRangerGex-9.0.0-MB-4027_SF_LN/outputs/analysis/clustering/gene_expression_kmeans_8_clusters/clusters.csv\n",
      "Copied: MB-4027_SF_LN/analyses/CellRangerGex-9.0.0-MB-4027_SF_LN/outputs/analysis/clustering/gene_expression_kmeans_6_clusters/clusters.csv\n",
      "Copied: MB-4027_SF_LN/analyses/CellRangerGex-9.0.0-MB-4027_SF_LN/outputs/analysis/clustering/gene_expression_kmeans_3_clusters/clusters.csv\n",
      "Copied: MB-4027_SF_LN/analyses/CellRangerGex-9.0.0-MB-4027_SF_LN/outputs/analysis/clustering/gene_expression_kmeans_10_clusters/clusters.csv\n",
      "Copied: MB-4027_SF_LN/analyses/CellRangerGex-9.0.0-MB-4027_SF_LN/outputs/analysis/clustering/gene_expression_kmeans_9_clusters/clusters.csv\n",
      "Copied: MB-4027_SF_LN/analyses/CellRangerGex-9.0.0-MB-4027_SF_LN/outputs/analysis/clustering/gene_expression_graphclust/clusters.csv\n",
      "Copied: MB-4027_SF_LN/analyses/CellRangerGex-9.0.0-MB-4027_SF_LN/outputs/analysis/clustering/gene_expression_kmeans_2_clusters/clusters.csv\n",
      "Copied: MB-4027_SF_LN/analyses/CellRangerGex-9.0.0-MB-4027_SF_LN/outputs/analysis/clustering/gene_expression_kmeans_5_clusters/clusters.csv\n",
      "Copied: MB-4027_SF_LN/analyses/CellRangerGex-9.0.0-MB-4027_SF_LN/outputs/analysis/clustering/gene_expression_kmeans_4_clusters/clusters.csv\n",
      "Copied: MB-4027_SF_LN/analyses/CellRangerGex-9.0.0-MB-4027_SF_LN/outputs/analysis/tsne/gene_expression_2_components/projection.csv\n",
      "Copied: MB-4027_SF_LN/analyses/CellRangerGex-9.0.0-MB-4027_SF_LN/outputs/analysis/pca/gene_expression_10_components/projection.csv\n",
      "Copied: MB-4027_SF_LN/analyses/CellRangerGex-9.0.0-MB-4027_SF_LN/outputs/analysis/pca/gene_expression_10_components/variance.csv\n",
      "Copied: MB-4027_SF_LN/analyses/CellRangerGex-9.0.0-MB-4027_SF_LN/outputs/analysis/pca/gene_expression_10_components/dispersion.csv\n",
      "Copied: MB-4027_SF_LN/analyses/CellRangerGex-9.0.0-MB-4027_SF_LN/outputs/analysis/pca/gene_expression_10_components/features_selected.csv\n",
      "Copied: MB-4027_SF_LN/analyses/CellRangerGex-9.0.0-MB-4027_SF_LN/outputs/analysis/pca/gene_expression_10_components/components.csv\n",
      "Copied: MB-4027_SF_LN/analyses/CellRangerGex-9.0.0-MB-4027_SF_LN/outputs/analysis/diffexp/gene_expression_kmeans_8_clusters/differential_expression.csv\n",
      "Copied: MB-4027_SF_LN/analyses/CellRangerGex-9.0.0-MB-4027_SF_LN/outputs/analysis/diffexp/gene_expression_kmeans_2_clusters/differential_expression.csv\n",
      "Copied: MB-4027_SF_LN/analyses/CellRangerGex-9.0.0-MB-4027_SF_LN/outputs/analysis/diffexp/gene_expression_kmeans_7_clusters/differential_expression.csv\n",
      "Copied: MB-4027_SF_LN/analyses/CellRangerGex-9.0.0-MB-4027_SF_LN/outputs/analysis/diffexp/gene_expression_kmeans_5_clusters/differential_expression.csv\n",
      "Copied: MB-4027_SF_LN/analyses/CellRangerGex-9.0.0-MB-4027_SF_LN/outputs/analysis/diffexp/gene_expression_kmeans_3_clusters/differential_expression.csv\n",
      "Copied: MB-4027_SF_LN/analyses/CellRangerGex-9.0.0-MB-4027_SF_LN/outputs/analysis/diffexp/gene_expression_kmeans_9_clusters/differential_expression.csv\n",
      "Copied: MB-4027_SF_LN/analyses/CellRangerGex-9.0.0-MB-4027_SF_LN/outputs/analysis/diffexp/gene_expression_kmeans_4_clusters/differential_expression.csv\n",
      "Copied: MB-4027_SF_LN/analyses/CellRangerGex-9.0.0-MB-4027_SF_LN/outputs/analysis/diffexp/gene_expression_kmeans_6_clusters/differential_expression.csv\n",
      "Copied: MB-4027_SF_LN/analyses/CellRangerGex-9.0.0-MB-4027_SF_LN/outputs/analysis/diffexp/gene_expression_kmeans_10_clusters/differential_expression.csv\n",
      "Copied: MB-4027_SF_LN/analyses/CellRangerGex-9.0.0-MB-4027_SF_LN/outputs/analysis/diffexp/gene_expression_graphclust/differential_expression.csv\n",
      "Copied: MB-4027_SF_LN/analyses/CellRangerGex-9.0.0-MB-4027_SF_LN/outputs/filtered_feature_bc_matrix/barcodes.tsv.gz\n",
      "Copied: MB-4027_SF_LN/analyses/CellRangerGex-9.0.0-MB-4027_SF_LN/outputs/filtered_feature_bc_matrix/features.tsv.gz\n",
      "Copied: MB-4027_SF_LN/analyses/CellRangerGex-9.0.0-MB-4027_SF_LN/outputs/filtered_feature_bc_matrix/matrix.mtx.gz\n",
      "Copied: MB-4027_SF_LN/analyses/CellRangerGex-9.0.0-MB-4027_SF_LN/outputs/raw_feature_bc_matrix/features.tsv.gz\n",
      "Copied: MB-4027_SF_LN/analyses/CellRangerGex-9.0.0-MB-4027_SF_LN/outputs/raw_feature_bc_matrix/barcodes.tsv.gz\n",
      "Copied: MB-4027_SF_LN/analyses/CellRangerGex-9.0.0-MB-4027_SF_LN/outputs/raw_feature_bc_matrix/matrix.mtx.gz\n",
      "Copied: MB-4027_SL_LN/analyses/CellRangerGex-9.0.0-MB-4027_SL_LN/README.pdf\n",
      "Copied: MB-4027_SL_LN/analyses/CellRangerGex-9.0.0-MB-4027_SL_LN/outputs/raw_feature_bc_matrix.h5\n",
      "Copied: MB-4027_SL_LN/analyses/CellRangerGex-9.0.0-MB-4027_SL_LN/outputs/possorted_genome_bam.bam\n",
      "Copied: MB-4027_SL_LN/analyses/CellRangerGex-9.0.0-MB-4027_SL_LN/outputs/cloupe.cloupe\n",
      "Copied: MB-4027_SL_LN/analyses/CellRangerGex-9.0.0-MB-4027_SL_LN/outputs/possorted_genome_bam.bam.bai\n",
      "Copied: MB-4027_SL_LN/analyses/CellRangerGex-9.0.0-MB-4027_SL_LN/outputs/molecule_info.h5\n",
      "Copied: MB-4027_SL_LN/analyses/CellRangerGex-9.0.0-MB-4027_SL_LN/outputs/web_summary.html\n",
      "Copied: MB-4027_SL_LN/analyses/CellRangerGex-9.0.0-MB-4027_SL_LN/outputs/filtered_feature_bc_matrix.h5\n",
      "Copied: MB-4027_SL_LN/analyses/CellRangerGex-9.0.0-MB-4027_SL_LN/outputs/metrics_summary.csv\n",
      "Copied: MB-4027_SL_LN/analyses/CellRangerGex-9.0.0-MB-4027_SL_LN/outputs/paths.json\n",
      "Copied: MB-4027_SL_LN/analyses/CellRangerGex-9.0.0-MB-4027_SL_LN/outputs/analysis.tgz\n",
      "Copied: MB-4027_SL_LN/analyses/CellRangerGex-9.0.0-MB-4027_SL_LN/outputs/analysis/tsne/gene_expression_2_components/projection.csv\n",
      "Copied: MB-4027_SL_LN/analyses/CellRangerGex-9.0.0-MB-4027_SL_LN/outputs/analysis/clustering/gene_expression_kmeans_10_clusters/clusters.csv\n",
      "Copied: MB-4027_SL_LN/analyses/CellRangerGex-9.0.0-MB-4027_SL_LN/outputs/analysis/clustering/gene_expression_kmeans_4_clusters/clusters.csv\n",
      "Copied: MB-4027_SL_LN/analyses/CellRangerGex-9.0.0-MB-4027_SL_LN/outputs/analysis/clustering/gene_expression_graphclust/clusters.csv\n",
      "Copied: MB-4027_SL_LN/analyses/CellRangerGex-9.0.0-MB-4027_SL_LN/outputs/analysis/clustering/gene_expression_kmeans_9_clusters/clusters.csv\n",
      "Copied: MB-4027_SL_LN/analyses/CellRangerGex-9.0.0-MB-4027_SL_LN/outputs/analysis/clustering/gene_expression_kmeans_6_clusters/clusters.csv\n",
      "Copied: MB-4027_SL_LN/analyses/CellRangerGex-9.0.0-MB-4027_SL_LN/outputs/analysis/clustering/gene_expression_kmeans_3_clusters/clusters.csv\n",
      "Copied: MB-4027_SL_LN/analyses/CellRangerGex-9.0.0-MB-4027_SL_LN/outputs/analysis/clustering/gene_expression_kmeans_2_clusters/clusters.csv\n",
      "Copied: MB-4027_SL_LN/analyses/CellRangerGex-9.0.0-MB-4027_SL_LN/outputs/analysis/clustering/gene_expression_kmeans_7_clusters/clusters.csv\n",
      "Copied: MB-4027_SL_LN/analyses/CellRangerGex-9.0.0-MB-4027_SL_LN/outputs/analysis/clustering/gene_expression_kmeans_8_clusters/clusters.csv\n",
      "Copied: MB-4027_SL_LN/analyses/CellRangerGex-9.0.0-MB-4027_SL_LN/outputs/analysis/clustering/gene_expression_kmeans_5_clusters/clusters.csv\n",
      "Copied: MB-4027_SL_LN/analyses/CellRangerGex-9.0.0-MB-4027_SL_LN/outputs/analysis/umap/gene_expression_2_components/projection.csv\n",
      "Copied: MB-4027_SL_LN/analyses/CellRangerGex-9.0.0-MB-4027_SL_LN/outputs/analysis/pca/gene_expression_10_components/variance.csv\n",
      "Copied: MB-4027_SL_LN/analyses/CellRangerGex-9.0.0-MB-4027_SL_LN/outputs/analysis/pca/gene_expression_10_components/projection.csv\n",
      "Copied: MB-4027_SL_LN/analyses/CellRangerGex-9.0.0-MB-4027_SL_LN/outputs/analysis/pca/gene_expression_10_components/dispersion.csv\n",
      "Copied: MB-4027_SL_LN/analyses/CellRangerGex-9.0.0-MB-4027_SL_LN/outputs/analysis/pca/gene_expression_10_components/components.csv\n",
      "Copied: MB-4027_SL_LN/analyses/CellRangerGex-9.0.0-MB-4027_SL_LN/outputs/analysis/pca/gene_expression_10_components/features_selected.csv\n",
      "Copied: MB-4027_SL_LN/analyses/CellRangerGex-9.0.0-MB-4027_SL_LN/outputs/analysis/diffexp/gene_expression_kmeans_10_clusters/differential_expression.csv\n",
      "Copied: MB-4027_SL_LN/analyses/CellRangerGex-9.0.0-MB-4027_SL_LN/outputs/analysis/diffexp/gene_expression_kmeans_9_clusters/differential_expression.csv\n",
      "Copied: MB-4027_SL_LN/analyses/CellRangerGex-9.0.0-MB-4027_SL_LN/outputs/analysis/diffexp/gene_expression_kmeans_2_clusters/differential_expression.csv\n",
      "Copied: MB-4027_SL_LN/analyses/CellRangerGex-9.0.0-MB-4027_SL_LN/outputs/analysis/diffexp/gene_expression_kmeans_4_clusters/differential_expression.csv\n",
      "Copied: MB-4027_SL_LN/analyses/CellRangerGex-9.0.0-MB-4027_SL_LN/outputs/analysis/diffexp/gene_expression_kmeans_6_clusters/differential_expression.csv\n",
      "Copied: MB-4027_SL_LN/analyses/CellRangerGex-9.0.0-MB-4027_SL_LN/outputs/analysis/diffexp/gene_expression_kmeans_7_clusters/differential_expression.csv\n",
      "Copied: MB-4027_SL_LN/analyses/CellRangerGex-9.0.0-MB-4027_SL_LN/outputs/analysis/diffexp/gene_expression_graphclust/differential_expression.csv\n",
      "Copied: MB-4027_SL_LN/analyses/CellRangerGex-9.0.0-MB-4027_SL_LN/outputs/analysis/diffexp/gene_expression_kmeans_8_clusters/differential_expression.csv\n",
      "Copied: MB-4027_SL_LN/analyses/CellRangerGex-9.0.0-MB-4027_SL_LN/outputs/analysis/diffexp/gene_expression_kmeans_3_clusters/differential_expression.csv\n",
      "Copied: MB-4027_SL_LN/analyses/CellRangerGex-9.0.0-MB-4027_SL_LN/outputs/analysis/diffexp/gene_expression_kmeans_5_clusters/differential_expression.csv\n",
      "Copied: MB-4027_SL_LN/analyses/CellRangerGex-9.0.0-MB-4027_SL_LN/outputs/filtered_feature_bc_matrix/barcodes.tsv.gz\n",
      "Copied: MB-4027_SL_LN/analyses/CellRangerGex-9.0.0-MB-4027_SL_LN/outputs/filtered_feature_bc_matrix/matrix.mtx.gz\n",
      "Copied: MB-4027_SL_LN/analyses/CellRangerGex-9.0.0-MB-4027_SL_LN/outputs/filtered_feature_bc_matrix/features.tsv.gz\n",
      "Copied: MB-4027_SL_LN/analyses/CellRangerGex-9.0.0-MB-4027_SL_LN/outputs/raw_feature_bc_matrix/features.tsv.gz\n",
      "Copied: MB-4027_SL_LN/analyses/CellRangerGex-9.0.0-MB-4027_SL_LN/outputs/raw_feature_bc_matrix/barcodes.tsv.gz\n",
      "Copied: MB-4027_SL_LN/analyses/CellRangerGex-9.0.0-MB-4027_SL_LN/outputs/raw_feature_bc_matrix/matrix.mtx.gz\n",
      "Copied: MB-4027_SF_T/analyses/CellRangerGex-9.0.0-MB-4027_SF_T/README.pdf\n",
      "Copied: MB-4027_SF_T/analyses/CellRangerGex-9.0.0-MB-4027_SF_T/outputs/raw_feature_bc_matrix.h5\n",
      "Copied: MB-4027_SF_T/analyses/CellRangerGex-9.0.0-MB-4027_SF_T/outputs/analysis.tgz\n",
      "Copied: MB-4027_SF_T/analyses/CellRangerGex-9.0.0-MB-4027_SF_T/outputs/paths.json\n",
      "Copied: MB-4027_SF_T/analyses/CellRangerGex-9.0.0-MB-4027_SF_T/outputs/molecule_info.h5\n",
      "Copied: MB-4027_SF_T/analyses/CellRangerGex-9.0.0-MB-4027_SF_T/outputs/metrics_summary.csv\n",
      "Copied: MB-4027_SF_T/analyses/CellRangerGex-9.0.0-MB-4027_SF_T/outputs/possorted_genome_bam.bam\n",
      "Copied: MB-4027_SF_T/analyses/CellRangerGex-9.0.0-MB-4027_SF_T/outputs/filtered_feature_bc_matrix.h5\n",
      "Copied: MB-4027_SF_T/analyses/CellRangerGex-9.0.0-MB-4027_SF_T/outputs/possorted_genome_bam.bam.bai\n",
      "Copied: MB-4027_SF_T/analyses/CellRangerGex-9.0.0-MB-4027_SF_T/outputs/cloupe.cloupe\n",
      "Copied: MB-4027_SF_T/analyses/CellRangerGex-9.0.0-MB-4027_SF_T/outputs/web_summary.html\n",
      "Copied: MB-4027_SF_T/analyses/CellRangerGex-9.0.0-MB-4027_SF_T/outputs/analysis/umap/gene_expression_2_components/projection.csv\n",
      "Copied: MB-4027_SF_T/analyses/CellRangerGex-9.0.0-MB-4027_SF_T/outputs/analysis/tsne/gene_expression_2_components/projection.csv\n",
      "Copied: MB-4027_SF_T/analyses/CellRangerGex-9.0.0-MB-4027_SF_T/outputs/analysis/diffexp/gene_expression_kmeans_8_clusters/differential_expression.csv\n",
      "Copied: MB-4027_SF_T/analyses/CellRangerGex-9.0.0-MB-4027_SF_T/outputs/analysis/diffexp/gene_expression_kmeans_5_clusters/differential_expression.csv\n",
      "Copied: MB-4027_SF_T/analyses/CellRangerGex-9.0.0-MB-4027_SF_T/outputs/analysis/diffexp/gene_expression_graphclust/differential_expression.csv\n",
      "Copied: MB-4027_SF_T/analyses/CellRangerGex-9.0.0-MB-4027_SF_T/outputs/analysis/diffexp/gene_expression_kmeans_10_clusters/differential_expression.csv\n",
      "Copied: MB-4027_SF_T/analyses/CellRangerGex-9.0.0-MB-4027_SF_T/outputs/analysis/diffexp/gene_expression_kmeans_6_clusters/differential_expression.csv\n",
      "Copied: MB-4027_SF_T/analyses/CellRangerGex-9.0.0-MB-4027_SF_T/outputs/analysis/diffexp/gene_expression_kmeans_9_clusters/differential_expression.csv\n",
      "Copied: MB-4027_SF_T/analyses/CellRangerGex-9.0.0-MB-4027_SF_T/outputs/analysis/diffexp/gene_expression_kmeans_2_clusters/differential_expression.csv\n",
      "Copied: MB-4027_SF_T/analyses/CellRangerGex-9.0.0-MB-4027_SF_T/outputs/analysis/diffexp/gene_expression_kmeans_3_clusters/differential_expression.csv\n",
      "Copied: MB-4027_SF_T/analyses/CellRangerGex-9.0.0-MB-4027_SF_T/outputs/analysis/diffexp/gene_expression_kmeans_7_clusters/differential_expression.csv\n",
      "Copied: MB-4027_SF_T/analyses/CellRangerGex-9.0.0-MB-4027_SF_T/outputs/analysis/diffexp/gene_expression_kmeans_4_clusters/differential_expression.csv\n",
      "Copied: MB-4027_SF_T/analyses/CellRangerGex-9.0.0-MB-4027_SF_T/outputs/analysis/pca/gene_expression_10_components/projection.csv\n",
      "Copied: MB-4027_SF_T/analyses/CellRangerGex-9.0.0-MB-4027_SF_T/outputs/analysis/pca/gene_expression_10_components/components.csv\n",
      "Copied: MB-4027_SF_T/analyses/CellRangerGex-9.0.0-MB-4027_SF_T/outputs/analysis/pca/gene_expression_10_components/dispersion.csv\n",
      "Copied: MB-4027_SF_T/analyses/CellRangerGex-9.0.0-MB-4027_SF_T/outputs/analysis/pca/gene_expression_10_components/features_selected.csv\n",
      "Copied: MB-4027_SF_T/analyses/CellRangerGex-9.0.0-MB-4027_SF_T/outputs/analysis/pca/gene_expression_10_components/variance.csv\n",
      "Copied: MB-4027_SF_T/analyses/CellRangerGex-9.0.0-MB-4027_SF_T/outputs/analysis/clustering/gene_expression_kmeans_8_clusters/clusters.csv\n",
      "Copied: MB-4027_SF_T/analyses/CellRangerGex-9.0.0-MB-4027_SF_T/outputs/analysis/clustering/gene_expression_kmeans_6_clusters/clusters.csv\n",
      "Copied: MB-4027_SF_T/analyses/CellRangerGex-9.0.0-MB-4027_SF_T/outputs/analysis/clustering/gene_expression_kmeans_2_clusters/clusters.csv\n",
      "Copied: MB-4027_SF_T/analyses/CellRangerGex-9.0.0-MB-4027_SF_T/outputs/analysis/clustering/gene_expression_kmeans_5_clusters/clusters.csv\n",
      "Copied: MB-4027_SF_T/analyses/CellRangerGex-9.0.0-MB-4027_SF_T/outputs/analysis/clustering/gene_expression_graphclust/clusters.csv\n",
      "Copied: MB-4027_SF_T/analyses/CellRangerGex-9.0.0-MB-4027_SF_T/outputs/analysis/clustering/gene_expression_kmeans_10_clusters/clusters.csv\n",
      "Copied: MB-4027_SF_T/analyses/CellRangerGex-9.0.0-MB-4027_SF_T/outputs/analysis/clustering/gene_expression_kmeans_7_clusters/clusters.csv\n",
      "Copied: MB-4027_SF_T/analyses/CellRangerGex-9.0.0-MB-4027_SF_T/outputs/analysis/clustering/gene_expression_kmeans_9_clusters/clusters.csv\n",
      "Copied: MB-4027_SF_T/analyses/CellRangerGex-9.0.0-MB-4027_SF_T/outputs/analysis/clustering/gene_expression_kmeans_4_clusters/clusters.csv\n",
      "Copied: MB-4027_SF_T/analyses/CellRangerGex-9.0.0-MB-4027_SF_T/outputs/analysis/clustering/gene_expression_kmeans_3_clusters/clusters.csv\n",
      "Copied: MB-4027_SF_T/analyses/CellRangerGex-9.0.0-MB-4027_SF_T/outputs/raw_feature_bc_matrix/features.tsv.gz\n",
      "Copied: MB-4027_SF_T/analyses/CellRangerGex-9.0.0-MB-4027_SF_T/outputs/raw_feature_bc_matrix/matrix.mtx.gz\n",
      "Copied: MB-4027_SF_T/analyses/CellRangerGex-9.0.0-MB-4027_SF_T/outputs/raw_feature_bc_matrix/barcodes.tsv.gz\n",
      "Copied: MB-4027_SF_T/analyses/CellRangerGex-9.0.0-MB-4027_SF_T/outputs/filtered_feature_bc_matrix/barcodes.tsv.gz\n",
      "Copied: MB-4027_SF_T/analyses/CellRangerGex-9.0.0-MB-4027_SF_T/outputs/filtered_feature_bc_matrix/features.tsv.gz\n",
      "Copied: MB-4027_SF_T/analyses/CellRangerGex-9.0.0-MB-4027_SF_T/outputs/filtered_feature_bc_matrix/matrix.mtx.gz\n"
     ]
    }
   ],
   "source": [
    "src_dir = config.ORIGINAL_DATA_ROOT_DIR\n",
    "dst_dir = config.DATA_DIR / \"read_only\"\n",
    "sample_identifier = config.SAMPLE_IDENTIFIER\n",
    "\n",
    "# Ensure the destination exists\n",
    "os.makedirs(dst_dir, exist_ok=True)\n",
    "\n",
    "def should_copy(src_path):\n",
    "    \"\"\"Determine if a path should be copied.\"\"\"\n",
    "    rel_path = os.path.relpath(src_path, src_dir)\n",
    "    parts = rel_path.split(os.sep)\n",
    "\n",
    "    # Only copy directories starting with the sample identifier\n",
    "    if not parts[0].startswith(sample_identifier):\n",
    "        return False\n",
    "\n",
    "    # Exclude any raw_data subdirectory\n",
    "    if \"raw_data\" in parts:\n",
    "        return False\n",
    "\n",
    "    return True\n",
    "\n",
    "for root, dirs, files in os.walk(src_dir, followlinks=True):\n",
    "    # Filter out raw_data dirs\n",
    "    dirs[:] = [d for d in dirs if should_copy(os.path.join(root, d))]\n",
    "\n",
    "    for file in files:\n",
    "        src_path = os.path.join(root, file)\n",
    "        if should_copy(src_path):\n",
    "            rel_path = os.path.relpath(src_path, src_dir)\n",
    "            dst_path = os.path.join(dst_dir, rel_path)\n",
    "            os.makedirs(os.path.dirname(dst_path), exist_ok=True)\n",
    "            subprocess.run(\n",
    "                [\"cp\", \"-p\", src_path, dst_path],\n",
    "                check=True\n",
    "            )\n",
    "            print(f\"Copied: {rel_path}\")\n",
    "            # Set read-only permissions\n",
    "            subprocess.run([\"chmod\", \"444\", dst_path], check=True)\n"
   ]
  },
  {
   "cell_type": "markdown",
   "id": "681df696",
   "metadata": {},
   "source": [
    "### Read in AnnDatas and Move to Data Directory\n",
    "\n",
    "Rather than modifying the original data directory, we will read in the AnnDatas and save them in a local directory for further analysis"
   ]
  },
  {
   "cell_type": "markdown",
   "id": "8da1833f",
   "metadata": {},
   "source": [
    "##### File Paths"
   ]
  },
  {
   "cell_type": "code",
   "execution_count": null,
   "id": "771c72ed",
   "metadata": {},
   "outputs": [],
   "source": [
    "# File and directory paths\n",
    "adata_dir = config.ADATA_DIR\n",
    "output_adata_dir = os.path.join(adata_dir, \"adatas_X_filtered_cells_raw\")\n",
    "\n",
    "# Make sure output directories exist\n",
    "os.makedirs(output_adata_dir, exist_ok=True)"
   ]
  },
  {
   "cell_type": "code",
   "execution_count": null,
   "id": "07e23ad8",
   "metadata": {},
   "outputs": [
    {
     "name": "stderr",
     "output_type": "stream",
     "text": [
      "/usersoftware/peerd/ghoshr/.conda/envs/benchmarking_template/lib/python3.12/site-packages/anndata/_core/anndata.py:1758: UserWarning: Variable names are not unique. To make them unique, call `.var_names_make_unique`.\n",
      "  utils.warn_names_duplicates(\"var\")\n",
      "/usersoftware/peerd/ghoshr/.conda/envs/benchmarking_template/lib/python3.12/site-packages/anndata/_core/anndata.py:1758: UserWarning: Variable names are not unique. To make them unique, call `.var_names_make_unique`.\n",
      "  utils.warn_names_duplicates(\"var\")\n"
     ]
    },
    {
     "name": "stdout",
     "output_type": "stream",
     "text": [
      "SF_N: AnnData object with n_obs × n_vars = 7179 × 38606\n",
      "    var: 'gene_ids', 'feature_types', 'genome'\n"
     ]
    },
    {
     "name": "stderr",
     "output_type": "stream",
     "text": [
      "/usersoftware/peerd/ghoshr/.conda/envs/benchmarking_template/lib/python3.12/site-packages/anndata/_core/anndata.py:1758: UserWarning: Variable names are not unique. To make them unique, call `.var_names_make_unique`.\n",
      "  utils.warn_names_duplicates(\"var\")\n",
      "/usersoftware/peerd/ghoshr/.conda/envs/benchmarking_template/lib/python3.12/site-packages/anndata/_core/anndata.py:1758: UserWarning: Variable names are not unique. To make them unique, call `.var_names_make_unique`.\n",
      "  utils.warn_names_duplicates(\"var\")\n"
     ]
    },
    {
     "name": "stdout",
     "output_type": "stream",
     "text": [
      "SL_N: AnnData object with n_obs × n_vars = 7929 × 38606\n",
      "    var: 'gene_ids', 'feature_types', 'genome'\n"
     ]
    },
    {
     "name": "stderr",
     "output_type": "stream",
     "text": [
      "/usersoftware/peerd/ghoshr/.conda/envs/benchmarking_template/lib/python3.12/site-packages/anndata/_core/anndata.py:1758: UserWarning: Variable names are not unique. To make them unique, call `.var_names_make_unique`.\n",
      "  utils.warn_names_duplicates(\"var\")\n",
      "/usersoftware/peerd/ghoshr/.conda/envs/benchmarking_template/lib/python3.12/site-packages/anndata/_core/anndata.py:1758: UserWarning: Variable names are not unique. To make them unique, call `.var_names_make_unique`.\n",
      "  utils.warn_names_duplicates(\"var\")\n"
     ]
    },
    {
     "name": "stdout",
     "output_type": "stream",
     "text": [
      "SF_T: AnnData object with n_obs × n_vars = 7146 × 38606\n",
      "    var: 'gene_ids', 'feature_types', 'genome'\n"
     ]
    },
    {
     "name": "stderr",
     "output_type": "stream",
     "text": [
      "/usersoftware/peerd/ghoshr/.conda/envs/benchmarking_template/lib/python3.12/site-packages/anndata/_core/anndata.py:1758: UserWarning: Variable names are not unique. To make them unique, call `.var_names_make_unique`.\n",
      "  utils.warn_names_duplicates(\"var\")\n",
      "/usersoftware/peerd/ghoshr/.conda/envs/benchmarking_template/lib/python3.12/site-packages/anndata/_core/anndata.py:1758: UserWarning: Variable names are not unique. To make them unique, call `.var_names_make_unique`.\n",
      "  utils.warn_names_duplicates(\"var\")\n"
     ]
    },
    {
     "name": "stdout",
     "output_type": "stream",
     "text": [
      "SL_T: AnnData object with n_obs × n_vars = 8593 × 38606\n",
      "    var: 'gene_ids', 'feature_types', 'genome'\n"
     ]
    },
    {
     "name": "stderr",
     "output_type": "stream",
     "text": [
      "/usersoftware/peerd/ghoshr/.conda/envs/benchmarking_template/lib/python3.12/site-packages/anndata/_core/anndata.py:1758: UserWarning: Variable names are not unique. To make them unique, call `.var_names_make_unique`.\n",
      "  utils.warn_names_duplicates(\"var\")\n",
      "/usersoftware/peerd/ghoshr/.conda/envs/benchmarking_template/lib/python3.12/site-packages/anndata/_core/anndata.py:1758: UserWarning: Variable names are not unique. To make them unique, call `.var_names_make_unique`.\n",
      "  utils.warn_names_duplicates(\"var\")\n"
     ]
    },
    {
     "name": "stdout",
     "output_type": "stream",
     "text": [
      "SF_LN: AnnData object with n_obs × n_vars = 5165 × 38606\n",
      "    var: 'gene_ids', 'feature_types', 'genome'\n",
      "SL_LN: AnnData object with n_obs × n_vars = 8836 × 38606\n",
      "    var: 'gene_ids', 'feature_types', 'genome'\n"
     ]
    },
    {
     "name": "stderr",
     "output_type": "stream",
     "text": [
      "/usersoftware/peerd/ghoshr/.conda/envs/benchmarking_template/lib/python3.12/site-packages/anndata/_core/anndata.py:1758: UserWarning: Variable names are not unique. To make them unique, call `.var_names_make_unique`.\n",
      "  utils.warn_names_duplicates(\"var\")\n",
      "/usersoftware/peerd/ghoshr/.conda/envs/benchmarking_template/lib/python3.12/site-packages/anndata/_core/anndata.py:1758: UserWarning: Variable names are not unique. To make them unique, call `.var_names_make_unique`.\n",
      "  utils.warn_names_duplicates(\"var\")\n"
     ]
    }
   ],
   "source": [
    "# Load AnnData objects\n",
    "adata_dict = {}\n",
    "adata_metadata = {}\n",
    "\n",
    "sample_metadata = config.SAMPLES_METADATA\n",
    "sample_identifier = config.SAMPLE_IDENTIFIER\n",
    "input_data_dir = config.DATA_DIR / \"read_only\"\n",
    "file_name = config.CELL_RANGER_FILTERED_FEATURE_MATRIX_FILE_NAME\n",
    "\n",
    "for key, sample_info in sample_metadata.items():\n",
    "    tissue = sample_info[\"tissue\"]\n",
    "    protocol = sample_info[\"protocol\"]\n",
    "\n",
    "    folder = f\"{sample_identifier}_{key}\"\n",
    "\n",
    "    file_path = os.path.join(\n",
    "        input_data_dir,\n",
    "        folder,\n",
    "        f\"analyses/CellRangerGex-9.0.0-{folder}/outputs\",\n",
    "        file_name,\n",
    "    )\n",
    "\n",
    "    adata = sc.read_10x_h5(file_path)\n",
    "    adata_dict[key] = adata\n",
    "    print(f\"{key}: {adata}\")"
   ]
  },
  {
   "cell_type": "markdown",
   "id": "d0be4408",
   "metadata": {},
   "source": [
    "### Compute QC Metrics\n",
    "\n",
    "We'll compute the basic QC metrics from Scanpy here before we do any downstream analysis"
   ]
  },
  {
   "cell_type": "code",
   "execution_count": null,
   "id": "84da26ff",
   "metadata": {},
   "outputs": [
    {
     "name": "stdout",
     "output_type": "stream",
     "text": [
      "AnnData object with n_obs × n_vars = 7179 × 38606\n",
      "    obs: 'n_genes_by_counts', 'log1p_n_genes_by_counts', 'total_counts', 'log1p_total_counts', 'n_counts'\n",
      "    var: 'gene_ids', 'feature_types', 'genome', 'n_cells_by_counts', 'mean_counts', 'log1p_mean_counts', 'pct_dropout_by_counts', 'total_counts', 'log1p_total_counts'\n",
      "AnnData object with n_obs × n_vars = 7929 × 38606\n",
      "    obs: 'n_genes_by_counts', 'log1p_n_genes_by_counts', 'total_counts', 'log1p_total_counts', 'n_counts'\n",
      "    var: 'gene_ids', 'feature_types', 'genome', 'n_cells_by_counts', 'mean_counts', 'log1p_mean_counts', 'pct_dropout_by_counts', 'total_counts', 'log1p_total_counts'\n",
      "AnnData object with n_obs × n_vars = 7146 × 38606\n",
      "    obs: 'n_genes_by_counts', 'log1p_n_genes_by_counts', 'total_counts', 'log1p_total_counts', 'n_counts'\n",
      "    var: 'gene_ids', 'feature_types', 'genome', 'n_cells_by_counts', 'mean_counts', 'log1p_mean_counts', 'pct_dropout_by_counts', 'total_counts', 'log1p_total_counts'\n",
      "AnnData object with n_obs × n_vars = 8593 × 38606\n",
      "    obs: 'n_genes_by_counts', 'log1p_n_genes_by_counts', 'total_counts', 'log1p_total_counts', 'n_counts'\n",
      "    var: 'gene_ids', 'feature_types', 'genome', 'n_cells_by_counts', 'mean_counts', 'log1p_mean_counts', 'pct_dropout_by_counts', 'total_counts', 'log1p_total_counts'\n",
      "AnnData object with n_obs × n_vars = 5165 × 38606\n",
      "    obs: 'n_genes_by_counts', 'log1p_n_genes_by_counts', 'total_counts', 'log1p_total_counts', 'n_counts'\n",
      "    var: 'gene_ids', 'feature_types', 'genome', 'n_cells_by_counts', 'mean_counts', 'log1p_mean_counts', 'pct_dropout_by_counts', 'total_counts', 'log1p_total_counts'\n",
      "AnnData object with n_obs × n_vars = 8836 × 38606\n",
      "    obs: 'n_genes_by_counts', 'log1p_n_genes_by_counts', 'total_counts', 'log1p_total_counts', 'n_counts'\n",
      "    var: 'gene_ids', 'feature_types', 'genome', 'n_cells_by_counts', 'mean_counts', 'log1p_mean_counts', 'pct_dropout_by_counts', 'total_counts', 'log1p_total_counts'\n"
     ]
    }
   ],
   "source": [
    "def run_qc_metrics(adata) -> None:\n",
    "    \"\"\"\n",
    "    Compute standard quality control (QC) metrics on an AnnData object.\n",
    "\n",
    "    Args:\n",
    "        adata (AnnData): Annotated data matrix of shape n_obs x n_vars.\n",
    "\n",
    "    Returns:\n",
    "        None: Modifies the input AnnData object in-place by adding QC metrics to `adata.obs` and `adata.var`.\n",
    "    \"\"\"\n",
    "\n",
    "    sc.pp.calculate_qc_metrics(\n",
    "        adata,\n",
    "        inplace=True,\n",
    "        percent_top=None,\n",
    "    )\n",
    "\n",
    "    adata.var_names_make_unique()\n",
    "    adata.obs_names_make_unique()\n",
    "    return\n",
    "\n",
    "\n",
    "# Run QC metrics on each dataset\n",
    "for adata in adata_dict.values():\n",
    "    run_qc_metrics(adata)\n",
    "    print(adata)"
   ]
  },
  {
   "cell_type": "markdown",
   "id": "25893f20",
   "metadata": {},
   "source": [
    "### Save AnnDatas to File"
   ]
  },
  {
   "cell_type": "code",
   "execution_count": null,
   "id": "bc6d3e2b",
   "metadata": {},
   "outputs": [
    {
     "name": "stdout",
     "output_type": "stream",
     "text": [
      "Saved SF_N_adata to /data1/collab002/sail/projects/ongoing/benchmarks/sail-benchmarking-template/utils/../data/adatas/adatas_X_filtered_cells_raw/SF_N_adata.h5ad\n",
      "Saved SL_N_adata to /data1/collab002/sail/projects/ongoing/benchmarks/sail-benchmarking-template/utils/../data/adatas/adatas_X_filtered_cells_raw/SL_N_adata.h5ad\n",
      "Saved SF_T_adata to /data1/collab002/sail/projects/ongoing/benchmarks/sail-benchmarking-template/utils/../data/adatas/adatas_X_filtered_cells_raw/SF_T_adata.h5ad\n",
      "Saved SL_T_adata to /data1/collab002/sail/projects/ongoing/benchmarks/sail-benchmarking-template/utils/../data/adatas/adatas_X_filtered_cells_raw/SL_T_adata.h5ad\n",
      "Saved SF_LN_adata to /data1/collab002/sail/projects/ongoing/benchmarks/sail-benchmarking-template/utils/../data/adatas/adatas_X_filtered_cells_raw/SF_LN_adata.h5ad\n",
      "Saved SL_LN_adata to /data1/collab002/sail/projects/ongoing/benchmarks/sail-benchmarking-template/utils/../data/adatas/adatas_X_filtered_cells_raw/SL_LN_adata.h5ad\n"
     ]
    }
   ],
   "source": [
    "for key, sample_info in sample_metadata.items():\n",
    "    tissue = sample_info[\"tissue\"]\n",
    "    protocol = sample_info[\"protocol\"]\n",
    "\n",
    "    out_path = os.path.join(output_adata_dir, f\"{key}_adata.h5ad\")\n",
    "    adata_dict[key].write(out_path)\n",
    "    print(f\"Saved {key}_adata to {out_path}\")"
   ]
  }
 ],
 "metadata": {
  "kernelspec": {
   "display_name": "benchmarking_template",
   "language": "python",
   "name": "python3"
  },
  "language_info": {
   "codemirror_mode": {
    "name": "ipython",
    "version": 3
   },
   "file_extension": ".py",
   "mimetype": "text/x-python",
   "name": "python",
   "nbconvert_exporter": "python",
   "pygments_lexer": "ipython3",
   "version": "3.12.11"
  }
 },
 "nbformat": 4,
 "nbformat_minor": 5
}
