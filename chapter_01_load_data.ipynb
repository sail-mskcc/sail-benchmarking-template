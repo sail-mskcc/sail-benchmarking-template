{
 "cells": [
  {
   "cell_type": "markdown",
   "id": "54308a19",
   "metadata": {},
   "source": [
    "# Chapter 01 — Loading and Organizing the Data\n",
    "\n",
    "## Objective\n",
    "\n",
    "In this chapter, we load all single-nucleus RNA-seq datasets required for benchmarking the **Singulator + FACS** and **Singulator + LeviCell** protocols. We also verify metadata consistency, perform basic integrity checks, and prepare the data objects for downstream analysis.\n",
    "\n",
    "This includes:\n",
    "\n",
    "- Locating the data on the shared filesystem (Iris)\n",
    "- Loading raw count matrices (e.g., `filtered_feature_bc_matrix.h5` from 10X)\n",
    "- Loading data into `AnnData` objects\n",
    "\n",
    "## Data Source\n",
    "\n",
    "The data for this benchmarking project is stored on the **Iris** HPC filesystem under:\n",
    "\n",
    "`/data1/collab002/sail/isabl/datalake/prod/010/collaborators/SAIL/projects/singulator_debris_removal_and/experiments`\n",
    "\n",
    "We will be working with the data under identifier `MB-4027_*`\n"
   ]
  },
  {
   "cell_type": "markdown",
   "id": "96b55815",
   "metadata": {},
   "source": [
    "## Create Conda Environment for Analysis\n",
    "\n",
    "To ensure reproducibility and consistent dependency management, we use a Conda environment for all analyses in this benchmarking project.\n",
    "\n",
    "The environment includes key packages for single-cell RNA-seq data handling, visualization, and benchmarking, including:\n",
    "\n",
    "- `scanpy`\n",
    "- `anndata`\n",
    "- `pandas`, `numpy`, `matplotlib`, `seaborn`\n",
    "- `jupyterlab` and `notebook`\n",
    "- `scikit-learn`, `umap-learn`, `leidenalg`\n",
    "\n",
    "### Step 1: Create the Environment\n",
    "\n",
    "You can create the environment using `mamba` (recommended) or `conda`. An `env.yml` file is provided for you within this directory with all the prerequisites for performing the analysis in this book. The commands below allow you to create your environment:\n"
   ]
  },
  {
   "cell_type": "code",
   "execution_count": null,
   "id": "19072083",
   "metadata": {
    "vscode": {
     "languageId": "shellscript"
    }
   },
   "outputs": [],
   "source": [
    "%%bash\n",
    "\n",
    "# Recommended\n",
    "mamba env create -f env.yml\n",
    "\n",
    "# Or with conda\n",
    "conda env create -f env.yml"
   ]
  },
  {
   "cell_type": "markdown",
   "id": "284c4ad4",
   "metadata": {},
   "source": [
    "Now you can run python using the ipykernel (benchmarking_template). Select the correct kernel by using the menu in the top right of this file."
   ]
  },
  {
   "cell_type": "markdown",
   "id": "585589e9",
   "metadata": {},
   "source": [
    "## Move data into local repository\n",
    "\n",
    "\n",
    "To ensure reproducibility and simplify access across users and machines, we mirror the relevant input data directories into the local repository using **symbolic links** (symlinks). This allows us to reference raw data in a standardized location without duplicating large files or modifying the originals.\n",
    "\n",
    "We can use the following commands to do so:"
   ]
  },
  {
   "cell_type": "markdown",
   "id": "d0fc9821",
   "metadata": {},
   "source": [
    "### Core Imports"
   ]
  },
  {
   "cell_type": "code",
   "execution_count": 10,
   "id": "29e355bf",
   "metadata": {},
   "outputs": [],
   "source": [
    "import os\n",
    "import pandas as pd\n",
    "import subprocess\n",
    "from pathlib import Path"
   ]
  },
  {
   "cell_type": "markdown",
   "id": "f412eeea",
   "metadata": {},
   "source": [
    "### Create Symlinks to Data (avoid copying very large files)"
   ]
  },
  {
   "cell_type": "code",
   "execution_count": null,
   "id": "b7031c28",
   "metadata": {},
   "outputs": [],
   "source": [
    "ORIGINAL_DATA_ROOT_DIR = Path(\"/data1/collab002/sail/projects/ongoing/benchmarks/benchmark_singulator_levicell/data/read_only\")\n",
    "LOCAL_DATA_ROOT_DIR = Path(\"./data/read_only\")\n",
    "\n",
    "# Create local directory if it doesn't exist\n",
    "LOCAL_DATA_ROOT_DIR.mkdir(parents=True, exist_ok=True)\n",
    "\n",
    "# Create symlinks for each MB-4027_* subdirectory\n",
    "for full_path in ORIGINAL_DATA_ROOT_DIR.glob(\"MB-4027_*\"):\n",
    "    if full_path.is_dir():\n",
    "        sample_name = full_path.name\n",
    "        symlink_path = LOCAL_DATA_ROOT_DIR / sample_name\n",
    "\n",
    "        if symlink_path.exists():\n",
    "            print(f\"Skipping existing: {symlink_path}\")\n",
    "        else:\n",
    "            symlink_path.symlink_to(full_path)\n",
    "            print(f\"Created symlink: {symlink_path} -> {full_path}\")\n",
    "\n",
    "# Make everything under LOCAL_DATA_ROOT_DIR read-only\n",
    "subprocess.run([\"chmod\", \"-R\", \"a-w\", str(LOCAL_DATA_ROOT_DIR)], check=True)\n"
   ]
  },
  {
   "cell_type": "markdown",
   "id": "4274c34b",
   "metadata": {},
   "source": [
    "## Create metadata file\n",
    "\n",
    "In order to make sure we know what files we have, we will create a metadata.tsv file within the read_only dir. This will help future users identify what data we're working with."
   ]
  },
  {
   "cell_type": "code",
   "execution_count": 18,
   "id": "ca645dd6",
   "metadata": {},
   "outputs": [],
   "source": [
    "import pandas as pd\n",
    "import os\n",
    "\n",
    "DATA_DIR = \"./data\"\n",
    "\n",
    "# Define metadata\n",
    "data = {\n",
    "    \"sample_id\": [\n",
    "        \"MB-4027_SF_LN\",\n",
    "        \"MB-4027_SF_N\",\n",
    "        \"MB-4027_SF_T\",\n",
    "        \"MB-4027_SL_LN\",\n",
    "        \"MB-4027_SL_N\",\n",
    "        \"MB-4027_SL_T\",\n",
    "    ],\n",
    "    \"tissue\": [\n",
    "        \"Normal Liver\",\n",
    "        \"Normal Colon\",\n",
    "        \"Tumor Colon\",\n",
    "        \"Normal Liver\",\n",
    "        \"Normal Colon\",\n",
    "        \"Tumor Colon\",\n",
    "    ],\n",
    "    \"protocol\": [\n",
    "        \"Singulator+FACS\",\n",
    "        \"Singulator+FACS\",\n",
    "        \"Singulator+FACS\",\n",
    "        \"Singulator+LeviCell\",\n",
    "        \"Singulator+LeviCell\",\n",
    "        \"Singulator+LeviCell\",\n",
    "    ]\n",
    "}\n",
    "\n",
    "\n",
    "# Define output file path\n",
    "metadata_output_file_path = os.path.join(DATA_DIR, \"metadata.tsv\")\n",
    "\n",
    "# Add description to the metadata file\n",
    "with open(metadata_output_file_path, \"w\") as f:\n",
    "    f.write(\"\\n# This file contains metadata for the benchmark dataset.\\n\")\n",
    "    f.write(\"# Each row corresponds to a sample with its tissue type and protocol used.\\n\")\n",
    "    f.write(\"# The data is organized under the 'data/read_only' directory.\\n\")\n",
    "    f.write(\"# The symlinks point to the original data directories.\\n\")\n",
    "\n",
    "# Create DataFrame\n",
    "metadata_df = pd.DataFrame(data)\n",
    "\n",
    "# Save to TSV\n",
    "metadata_df.to_csv(metadata_output_file_path, sep=\"\\t\", mode = \"a\", index=False)"
   ]
  }
 ],
 "metadata": {
  "kernelspec": {
   "display_name": "benchmarking_template",
   "language": "python",
   "name": "python3"
  },
  "language_info": {
   "codemirror_mode": {
    "name": "ipython",
    "version": 3
   },
   "file_extension": ".py",
   "mimetype": "text/x-python",
   "name": "python",
   "nbconvert_exporter": "python",
   "pygments_lexer": "ipython3",
   "version": "3.12.11"
  }
 },
 "nbformat": 4,
 "nbformat_minor": 5
}
