{
 "cells": [
  {
   "cell_type": "markdown",
   "id": "54308a19",
   "metadata": {},
   "source": [
    "# Chapter 01 — Loading and Organizing the Data\n",
    "\n",
    "## Objective\n",
    "\n",
    "In this chapter, we load all single-nucleus RNA-seq datasets required for benchmarking the **Singulator + FACS** and **Singulator + LeviCell** protocols. We also verify metadata consistency, perform basic integrity checks, and prepare the data objects for downstream analysis.\n",
    "\n",
    "This includes:\n",
    "\n",
    "- Locating the data on the shared filesystem (Iris)\n",
    "- Loading raw count matrices (e.g., `filtered_feature_bc_matrix.h5` from 10X)\n",
    "- Loading data into `AnnData` objects\n",
    "\n",
    "## Data Source\n",
    "\n",
    "The data for this benchmarking project is stored on the **Iris** HPC filesystem under:\n",
    "\n",
    "`/data1/collab002/sail/isabl/datalake/prod/010/collaborators/SAIL/projects/singulator_debris_removal_and/experiments`\n",
    "\n",
    "We will be working with the data under identifier `MB-4027_*`\n"
   ]
  },
  {
   "cell_type": "markdown",
   "id": "96b55815",
   "metadata": {},
   "source": [
    "## Create Conda Environment for Analysis\n",
    "\n",
    "To ensure reproducibility and consistent dependency management, we use a Conda environment for all analyses in this benchmarking project.\n",
    "\n",
    "The environment includes key packages for single-cell RNA-seq data handling, visualization, and benchmarking, including:\n",
    "\n",
    "- `scanpy`\n",
    "- `anndata`\n",
    "- `pandas`, `numpy`, `matplotlib`, `seaborn`\n",
    "- `jupyterlab` and `notebook`\n",
    "- `scikit-learn`, `umap-learn`, `leidenalg`\n",
    "\n",
    "### Step 1: Create the Environment\n",
    "\n",
    "You can create the environment using `mamba` (recommended) or `conda`. An `env.yml` file is provided for you within this directory with all the prerequisites for performing the analysis in this book. The commands below allow you to create your environment:\n"
   ]
  },
  {
   "cell_type": "code",
   "execution_count": 1,
   "id": "19072083",
   "metadata": {
    "vscode": {
     "languageId": "shellscript"
    }
   },
   "outputs": [
    {
     "name": "stdout",
     "output_type": "stream",
     "text": [
      "Retrieving notices: ...working... done\n"
     ]
    },
    {
     "name": "stderr",
     "output_type": "stream",
     "text": [
      "\n",
      "CondaValueError: prefix already exists: /usersoftware/peerd/ghoshr/.conda/envs/benchmarking_template\n",
      "\n",
      "\n",
      "CondaValueError: prefix already exists: /usersoftware/peerd/ghoshr/.conda/envs/benchmarking_template\n",
      "\n"
     ]
    },
    {
     "ename": "CalledProcessError",
     "evalue": "Command 'b'\\n# Recommended\\nmamba env create -f env.yml\\n\\n# Or with conda\\nconda env create -f env.yml\\n'' returned non-zero exit status 1.",
     "output_type": "error",
     "traceback": [
      "\u001b[31m---------------------------------------------------------------------------\u001b[39m",
      "\u001b[31mCalledProcessError\u001b[39m                        Traceback (most recent call last)",
      "\u001b[36mCell\u001b[39m\u001b[36m \u001b[39m\u001b[32mIn[1]\u001b[39m\u001b[32m, line 1\u001b[39m\n\u001b[32m----> \u001b[39m\u001b[32m1\u001b[39m \u001b[43mget_ipython\u001b[49m\u001b[43m(\u001b[49m\u001b[43m)\u001b[49m\u001b[43m.\u001b[49m\u001b[43mrun_cell_magic\u001b[49m\u001b[43m(\u001b[49m\u001b[33;43m'\u001b[39;49m\u001b[33;43mbash\u001b[39;49m\u001b[33;43m'\u001b[39;49m\u001b[43m,\u001b[49m\u001b[43m \u001b[49m\u001b[33;43m'\u001b[39;49m\u001b[33;43m'\u001b[39;49m\u001b[43m,\u001b[49m\u001b[43m \u001b[49m\u001b[33;43m'\u001b[39;49m\u001b[38;5;130;43;01m\\n\u001b[39;49;00m\u001b[33;43m# Recommended\u001b[39;49m\u001b[38;5;130;43;01m\\n\u001b[39;49;00m\u001b[33;43mmamba env create -f env.yml\u001b[39;49m\u001b[38;5;130;43;01m\\n\u001b[39;49;00m\u001b[38;5;130;43;01m\\n\u001b[39;49;00m\u001b[33;43m# Or with conda\u001b[39;49m\u001b[38;5;130;43;01m\\n\u001b[39;49;00m\u001b[33;43mconda env create -f env.yml\u001b[39;49m\u001b[38;5;130;43;01m\\n\u001b[39;49;00m\u001b[33;43m'\u001b[39;49m\u001b[43m)\u001b[49m\n",
      "\u001b[36mFile \u001b[39m\u001b[32m/usersoftware/peerd/ghoshr/.conda/envs/benchmarking_template/lib/python3.12/site-packages/IPython/core/interactiveshell.py:2565\u001b[39m, in \u001b[36mInteractiveShell.run_cell_magic\u001b[39m\u001b[34m(self, magic_name, line, cell)\u001b[39m\n\u001b[32m   2563\u001b[39m \u001b[38;5;28;01mwith\u001b[39;00m \u001b[38;5;28mself\u001b[39m.builtin_trap:\n\u001b[32m   2564\u001b[39m     args = (magic_arg_s, cell)\n\u001b[32m-> \u001b[39m\u001b[32m2565\u001b[39m     result = \u001b[43mfn\u001b[49m\u001b[43m(\u001b[49m\u001b[43m*\u001b[49m\u001b[43margs\u001b[49m\u001b[43m,\u001b[49m\u001b[43m \u001b[49m\u001b[43m*\u001b[49m\u001b[43m*\u001b[49m\u001b[43mkwargs\u001b[49m\u001b[43m)\u001b[49m\n\u001b[32m   2567\u001b[39m \u001b[38;5;66;03m# The code below prevents the output from being displayed\u001b[39;00m\n\u001b[32m   2568\u001b[39m \u001b[38;5;66;03m# when using magics with decorator @output_can_be_silenced\u001b[39;00m\n\u001b[32m   2569\u001b[39m \u001b[38;5;66;03m# when the last Python token in the expression is a ';'.\u001b[39;00m\n\u001b[32m   2570\u001b[39m \u001b[38;5;28;01mif\u001b[39;00m \u001b[38;5;28mgetattr\u001b[39m(fn, magic.MAGIC_OUTPUT_CAN_BE_SILENCED, \u001b[38;5;28;01mFalse\u001b[39;00m):\n",
      "\u001b[36mFile \u001b[39m\u001b[32m/usersoftware/peerd/ghoshr/.conda/envs/benchmarking_template/lib/python3.12/site-packages/IPython/core/magics/script.py:160\u001b[39m, in \u001b[36mScriptMagics._make_script_magic.<locals>.named_script_magic\u001b[39m\u001b[34m(line, cell)\u001b[39m\n\u001b[32m    158\u001b[39m \u001b[38;5;28;01melse\u001b[39;00m:\n\u001b[32m    159\u001b[39m     line = script\n\u001b[32m--> \u001b[39m\u001b[32m160\u001b[39m \u001b[38;5;28;01mreturn\u001b[39;00m \u001b[38;5;28;43mself\u001b[39;49m\u001b[43m.\u001b[49m\u001b[43mshebang\u001b[49m\u001b[43m(\u001b[49m\u001b[43mline\u001b[49m\u001b[43m,\u001b[49m\u001b[43m \u001b[49m\u001b[43mcell\u001b[49m\u001b[43m)\u001b[49m\n",
      "\u001b[36mFile \u001b[39m\u001b[32m/usersoftware/peerd/ghoshr/.conda/envs/benchmarking_template/lib/python3.12/site-packages/IPython/core/magics/script.py:343\u001b[39m, in \u001b[36mScriptMagics.shebang\u001b[39m\u001b[34m(self, line, cell)\u001b[39m\n\u001b[32m    338\u001b[39m \u001b[38;5;28;01mif\u001b[39;00m args.raise_error \u001b[38;5;129;01mand\u001b[39;00m p.returncode != \u001b[32m0\u001b[39m:\n\u001b[32m    339\u001b[39m     \u001b[38;5;66;03m# If we get here and p.returncode is still None, we must have\u001b[39;00m\n\u001b[32m    340\u001b[39m     \u001b[38;5;66;03m# killed it but not yet seen its return code. We don't wait for it,\u001b[39;00m\n\u001b[32m    341\u001b[39m     \u001b[38;5;66;03m# in case it's stuck in uninterruptible sleep. -9 = SIGKILL\u001b[39;00m\n\u001b[32m    342\u001b[39m     rc = p.returncode \u001b[38;5;129;01mor\u001b[39;00m -\u001b[32m9\u001b[39m\n\u001b[32m--> \u001b[39m\u001b[32m343\u001b[39m     \u001b[38;5;28;01mraise\u001b[39;00m CalledProcessError(rc, cell)\n",
      "\u001b[31mCalledProcessError\u001b[39m: Command 'b'\\n# Recommended\\nmamba env create -f env.yml\\n\\n# Or with conda\\nconda env create -f env.yml\\n'' returned non-zero exit status 1."
     ]
    }
   ],
   "source": [
    "%%bash\n",
    "\n",
    "# Recommended\n",
    "mamba env create -f env.yml\n",
    "\n",
    "# Or with conda\n",
    "conda env create -f env.yml"
   ]
  },
  {
   "cell_type": "markdown",
   "id": "284c4ad4",
   "metadata": {},
   "source": [
    "Now you can run python using the ipykernel (benchmarking_template). Select the correct kernel by using the menu in the top right of this file."
   ]
  },
  {
   "cell_type": "markdown",
   "id": "585589e9",
   "metadata": {},
   "source": [
    "## Move data into local repository\n",
    "\n",
    "\n",
    "To ensure reproducibility and simplify access across users and machines, we mirror the relevant input data directories into the local repository using **symbolic links** (symlinks). This allows us to reference raw data in a standardized location without duplicating large files or modifying the originals.\n",
    "\n",
    "We can use the following commands to do so:"
   ]
  },
  {
   "cell_type": "markdown",
   "id": "d0fc9821",
   "metadata": {},
   "source": [
    "### Core Imports"
   ]
  },
  {
   "cell_type": "code",
   "execution_count": 2,
   "id": "29e355bf",
   "metadata": {},
   "outputs": [],
   "source": [
    "import os\n",
    "import scanpy as sc\n",
    "import pandas as pd\n",
    "import subprocess\n",
    "from pathlib import Path"
   ]
  },
  {
   "cell_type": "markdown",
   "id": "f412eeea",
   "metadata": {},
   "source": [
    "### Create Symlinks to Data (avoid copying very large files)"
   ]
  },
  {
   "cell_type": "code",
   "execution_count": null,
   "id": "b7031c28",
   "metadata": {},
   "outputs": [],
   "source": [
    "ORIGINAL_DATA_ROOT_DIR = Path(\n",
    "    \"/data1/collab002/sail/projects/ongoing/benchmarks/benchmark_singulator_levicell/data/read_only\"\n",
    ")\n",
    "LOCAL_DATA_ROOT_DIR = Path(\"./data/read_only\")\n",
    "\n",
    "# Create local directory if it doesn't exist\n",
    "LOCAL_DATA_ROOT_DIR.mkdir(parents=True, exist_ok=True)\n",
    "\n",
    "# Create symlinks for each MB-4027_* subdirectory\n",
    "for full_path in ORIGINAL_DATA_ROOT_DIR.glob(\"MB-4027_*\"):\n",
    "    if full_path.is_dir():\n",
    "        sample_name = full_path.name\n",
    "        symlink_path = LOCAL_DATA_ROOT_DIR / sample_name\n",
    "\n",
    "        if symlink_path.exists():\n",
    "            print(f\"Skipping existing: {symlink_path}\")\n",
    "        else:\n",
    "            symlink_path.symlink_to(full_path)\n",
    "            print(f\"Created symlink: {symlink_path} -> {full_path}\")\n",
    "\n",
    "# Make everything under LOCAL_DATA_ROOT_DIR read-only\n",
    "subprocess.run([\"chmod\", \"-R\", \"a-w\", str(LOCAL_DATA_ROOT_DIR)], check=True)"
   ]
  },
  {
   "cell_type": "markdown",
   "id": "4274c34b",
   "metadata": {},
   "source": [
    "## Create metadata file\n",
    "\n",
    "In order to make sure we know what files we have, we will create a metadata.tsv file within the read_only dir. This will help future users identify what data we're working with."
   ]
  },
  {
   "cell_type": "code",
   "execution_count": null,
   "id": "ca645dd6",
   "metadata": {},
   "outputs": [],
   "source": [
    "import pandas as pd\n",
    "import os\n",
    "\n",
    "DATA_DIR = \"./data\"\n",
    "\n",
    "# Define metadata\n",
    "data = {\n",
    "    \"sample_id\": [\n",
    "        \"MB-4027_SF_LN\",\n",
    "        \"MB-4027_SF_N\",\n",
    "        \"MB-4027_SF_T\",\n",
    "        \"MB-4027_SL_LN\",\n",
    "        \"MB-4027_SL_N\",\n",
    "        \"MB-4027_SL_T\",\n",
    "    ],\n",
    "    \"tissue\": [\n",
    "        \"Normal Liver\",\n",
    "        \"Normal Colon\",\n",
    "        \"Tumor Colon\",\n",
    "        \"Normal Liver\",\n",
    "        \"Normal Colon\",\n",
    "        \"Tumor Colon\",\n",
    "    ],\n",
    "    \"protocol\": [\n",
    "        \"Singulator+FACS\",\n",
    "        \"Singulator+FACS\",\n",
    "        \"Singulator+FACS\",\n",
    "        \"Singulator+LeviCell\",\n",
    "        \"Singulator+LeviCell\",\n",
    "        \"Singulator+LeviCell\",\n",
    "    ],\n",
    "}\n",
    "\n",
    "\n",
    "# Define output file path\n",
    "metadata_output_file_path = os.path.join(DATA_DIR, \"metadata.tsv\")\n",
    "\n",
    "# Add description to the metadata file\n",
    "with open(metadata_output_file_path, \"w\") as f:\n",
    "    f.write(\"\\n# This file contains metadata for the benchmark dataset.\\n\")\n",
    "    f.write(\n",
    "        \"# Each row corresponds to a sample with its tissue type and protocol used.\\n\"\n",
    "    )\n",
    "    f.write(\"# The data is organized under the 'data/read_only' directory.\\n\")\n",
    "    f.write(\"# The symlinks point to the original data directories.\\n\")\n",
    "\n",
    "# Create DataFrame\n",
    "metadata_df = pd.DataFrame(data)\n",
    "\n",
    "# Save to TSV\n",
    "metadata_df.to_csv(metadata_output_file_path, sep=\"\\t\", mode=\"a\", index=False)"
   ]
  },
  {
   "cell_type": "markdown",
   "id": "681df696",
   "metadata": {},
   "source": [
    "### Read in AnnDatas and Move to Data Directory"
   ]
  },
  {
   "cell_type": "code",
   "execution_count": 3,
   "id": "771c72ed",
   "metadata": {},
   "outputs": [],
   "source": [
    "# File and directory paths\n",
    "DATA_DIR = \"./data\"\n",
    "READ_ONLY_DIR = os.path.join(DATA_DIR, \"read_only\")\n",
    "\n",
    "ANALYSIS_DIR = os.path.join(DATA_DIR, \"analysis\")\n",
    "\n",
    "FILTERED_FEATURE_BC_MATRIX_FILE_NAME = \"filtered_feature_bc_matrix.h5\"\n",
    "OUTPUT_ADATA_DIR = os.path.join(ANALYSIS_DIR, \"adatas\", \"adatas_X_filtered_cells_raw\")\n",
    "MOLECULE_INFO_FILE_NAME = \"molecule_info.h5\"\n",
    "\n",
    "# Make sure output directories exist\n",
    "os.makedirs(OUTPUT_ADATA_DIR, exist_ok=True)\n",
    "\n",
    "# Sample metadata - in data/metadata.tsv\n",
    "samples = {\n",
    "    \"SF_N\": (\"MB-4027_SF_N\", \"Normal Colon\", \"Singulator+FACS\"),\n",
    "    \"SL_N\": (\"MB-4027_SL_N\", \"Normal Colon\", \"Singulator+LeviCell\"),\n",
    "    \"SF_T\": (\"MB-4027_SF_T\", \"Tumor Colon\", \"Singulator+FACS\"),\n",
    "    \"SL_T\": (\"MB-4027_SL_T\", \"Tumor Colon\", \"Singulator+LeviCell\"),\n",
    "    \"SF_LN\": (\"MB-4027_SF_LN\", \"Normal Liver\", \"Singulator+FACS\"),\n",
    "    \"SL_LN\": (\"MB-4027_SL_LN\", \"Normal Liver\", \"Singulator+LeviCell\"),\n",
    "}\n",
    "\n",
    "# Color palette for plotting\n",
    "protocol_color_palette = {\n",
    "    \"Singulator+FACS\": \"#AEC6CF\",\n",
    "    \"Singulator+LeviCell\": \"#FFDAB9\",\n",
    "}"
   ]
  },
  {
   "cell_type": "code",
   "execution_count": 4,
   "id": "07e23ad8",
   "metadata": {},
   "outputs": [
    {
     "name": "stderr",
     "output_type": "stream",
     "text": [
      "/usersoftware/peerd/ghoshr/.conda/envs/benchmarking_template/lib/python3.12/site-packages/anndata/_core/anndata.py:1758: UserWarning: Variable names are not unique. To make them unique, call `.var_names_make_unique`.\n",
      "  utils.warn_names_duplicates(\"var\")\n",
      "/usersoftware/peerd/ghoshr/.conda/envs/benchmarking_template/lib/python3.12/site-packages/anndata/_core/anndata.py:1758: UserWarning: Variable names are not unique. To make them unique, call `.var_names_make_unique`.\n",
      "  utils.warn_names_duplicates(\"var\")\n"
     ]
    },
    {
     "name": "stdout",
     "output_type": "stream",
     "text": [
      "SF_N: AnnData object with n_obs × n_vars = 7179 × 38606\n",
      "    var: 'gene_ids', 'feature_types', 'genome'\n"
     ]
    },
    {
     "name": "stderr",
     "output_type": "stream",
     "text": [
      "/usersoftware/peerd/ghoshr/.conda/envs/benchmarking_template/lib/python3.12/site-packages/anndata/_core/anndata.py:1758: UserWarning: Variable names are not unique. To make them unique, call `.var_names_make_unique`.\n",
      "  utils.warn_names_duplicates(\"var\")\n",
      "/usersoftware/peerd/ghoshr/.conda/envs/benchmarking_template/lib/python3.12/site-packages/anndata/_core/anndata.py:1758: UserWarning: Variable names are not unique. To make them unique, call `.var_names_make_unique`.\n",
      "  utils.warn_names_duplicates(\"var\")\n"
     ]
    },
    {
     "name": "stdout",
     "output_type": "stream",
     "text": [
      "SL_N: AnnData object with n_obs × n_vars = 7929 × 38606\n",
      "    var: 'gene_ids', 'feature_types', 'genome'\n"
     ]
    },
    {
     "name": "stderr",
     "output_type": "stream",
     "text": [
      "/usersoftware/peerd/ghoshr/.conda/envs/benchmarking_template/lib/python3.12/site-packages/anndata/_core/anndata.py:1758: UserWarning: Variable names are not unique. To make them unique, call `.var_names_make_unique`.\n",
      "  utils.warn_names_duplicates(\"var\")\n",
      "/usersoftware/peerd/ghoshr/.conda/envs/benchmarking_template/lib/python3.12/site-packages/anndata/_core/anndata.py:1758: UserWarning: Variable names are not unique. To make them unique, call `.var_names_make_unique`.\n",
      "  utils.warn_names_duplicates(\"var\")\n"
     ]
    },
    {
     "name": "stdout",
     "output_type": "stream",
     "text": [
      "SF_T: AnnData object with n_obs × n_vars = 7146 × 38606\n",
      "    var: 'gene_ids', 'feature_types', 'genome'\n"
     ]
    },
    {
     "name": "stderr",
     "output_type": "stream",
     "text": [
      "/usersoftware/peerd/ghoshr/.conda/envs/benchmarking_template/lib/python3.12/site-packages/anndata/_core/anndata.py:1758: UserWarning: Variable names are not unique. To make them unique, call `.var_names_make_unique`.\n",
      "  utils.warn_names_duplicates(\"var\")\n",
      "/usersoftware/peerd/ghoshr/.conda/envs/benchmarking_template/lib/python3.12/site-packages/anndata/_core/anndata.py:1758: UserWarning: Variable names are not unique. To make them unique, call `.var_names_make_unique`.\n",
      "  utils.warn_names_duplicates(\"var\")\n"
     ]
    },
    {
     "name": "stdout",
     "output_type": "stream",
     "text": [
      "SL_T: AnnData object with n_obs × n_vars = 8593 × 38606\n",
      "    var: 'gene_ids', 'feature_types', 'genome'\n"
     ]
    },
    {
     "name": "stderr",
     "output_type": "stream",
     "text": [
      "/usersoftware/peerd/ghoshr/.conda/envs/benchmarking_template/lib/python3.12/site-packages/anndata/_core/anndata.py:1758: UserWarning: Variable names are not unique. To make them unique, call `.var_names_make_unique`.\n",
      "  utils.warn_names_duplicates(\"var\")\n",
      "/usersoftware/peerd/ghoshr/.conda/envs/benchmarking_template/lib/python3.12/site-packages/anndata/_core/anndata.py:1758: UserWarning: Variable names are not unique. To make them unique, call `.var_names_make_unique`.\n",
      "  utils.warn_names_duplicates(\"var\")\n"
     ]
    },
    {
     "name": "stdout",
     "output_type": "stream",
     "text": [
      "SF_LN: AnnData object with n_obs × n_vars = 5165 × 38606\n",
      "    var: 'gene_ids', 'feature_types', 'genome'\n",
      "SL_LN: AnnData object with n_obs × n_vars = 8836 × 38606\n",
      "    var: 'gene_ids', 'feature_types', 'genome'\n"
     ]
    },
    {
     "name": "stderr",
     "output_type": "stream",
     "text": [
      "/usersoftware/peerd/ghoshr/.conda/envs/benchmarking_template/lib/python3.12/site-packages/anndata/_core/anndata.py:1758: UserWarning: Variable names are not unique. To make them unique, call `.var_names_make_unique`.\n",
      "  utils.warn_names_duplicates(\"var\")\n",
      "/usersoftware/peerd/ghoshr/.conda/envs/benchmarking_template/lib/python3.12/site-packages/anndata/_core/anndata.py:1758: UserWarning: Variable names are not unique. To make them unique, call `.var_names_make_unique`.\n",
      "  utils.warn_names_duplicates(\"var\")\n"
     ]
    }
   ],
   "source": [
    "# Load AnnData objects\n",
    "adatas = {}\n",
    "adata_metadata = {}\n",
    "\n",
    "for key, (folder, tissue, protocol) in samples.items():\n",
    "    file_path = os.path.join(\n",
    "        READ_ONLY_DIR,\n",
    "        folder,\n",
    "        f\"analyses/CellRangerGex-9.0.0-{folder}/outputs\",\n",
    "        FILTERED_FEATURE_BC_MATRIX_FILE_NAME,\n",
    "    )\n",
    "    adata = sc.read_10x_h5(file_path)\n",
    "    adatas[key] = adata\n",
    "    adata_metadata[key] = (tissue, protocol)\n",
    "    print(f\"{key}: {adata}\")"
   ]
  },
  {
   "cell_type": "markdown",
   "id": "d0be4408",
   "metadata": {},
   "source": [
    "### Compute QC Metrics"
   ]
  },
  {
   "cell_type": "code",
   "execution_count": 5,
   "id": "84da26ff",
   "metadata": {},
   "outputs": [
    {
     "name": "stdout",
     "output_type": "stream",
     "text": [
      "AnnData object with n_obs × n_vars = 7179 × 38606\n",
      "    obs: 'n_genes_by_counts', 'log1p_n_genes_by_counts', 'total_counts', 'log1p_total_counts', 'n_counts'\n",
      "    var: 'gene_ids', 'feature_types', 'genome', 'n_cells_by_counts', 'mean_counts', 'log1p_mean_counts', 'pct_dropout_by_counts', 'total_counts', 'log1p_total_counts'\n",
      "AnnData object with n_obs × n_vars = 7929 × 38606\n",
      "    obs: 'n_genes_by_counts', 'log1p_n_genes_by_counts', 'total_counts', 'log1p_total_counts', 'n_counts'\n",
      "    var: 'gene_ids', 'feature_types', 'genome', 'n_cells_by_counts', 'mean_counts', 'log1p_mean_counts', 'pct_dropout_by_counts', 'total_counts', 'log1p_total_counts'\n",
      "AnnData object with n_obs × n_vars = 7146 × 38606\n",
      "    obs: 'n_genes_by_counts', 'log1p_n_genes_by_counts', 'total_counts', 'log1p_total_counts', 'n_counts'\n",
      "    var: 'gene_ids', 'feature_types', 'genome', 'n_cells_by_counts', 'mean_counts', 'log1p_mean_counts', 'pct_dropout_by_counts', 'total_counts', 'log1p_total_counts'\n",
      "AnnData object with n_obs × n_vars = 8593 × 38606\n",
      "    obs: 'n_genes_by_counts', 'log1p_n_genes_by_counts', 'total_counts', 'log1p_total_counts', 'n_counts'\n",
      "    var: 'gene_ids', 'feature_types', 'genome', 'n_cells_by_counts', 'mean_counts', 'log1p_mean_counts', 'pct_dropout_by_counts', 'total_counts', 'log1p_total_counts'\n",
      "AnnData object with n_obs × n_vars = 5165 × 38606\n",
      "    obs: 'n_genes_by_counts', 'log1p_n_genes_by_counts', 'total_counts', 'log1p_total_counts', 'n_counts'\n",
      "    var: 'gene_ids', 'feature_types', 'genome', 'n_cells_by_counts', 'mean_counts', 'log1p_mean_counts', 'pct_dropout_by_counts', 'total_counts', 'log1p_total_counts'\n",
      "AnnData object with n_obs × n_vars = 8836 × 38606\n",
      "    obs: 'n_genes_by_counts', 'log1p_n_genes_by_counts', 'total_counts', 'log1p_total_counts', 'n_counts'\n",
      "    var: 'gene_ids', 'feature_types', 'genome', 'n_cells_by_counts', 'mean_counts', 'log1p_mean_counts', 'pct_dropout_by_counts', 'total_counts', 'log1p_total_counts'\n"
     ]
    }
   ],
   "source": [
    "def run_qc_metrics(adata) -> None:\n",
    "    \"\"\"\n",
    "    Compute standard quality control (QC) metrics on an AnnData object.\n",
    "\n",
    "    Args:\n",
    "        adata (AnnData): Annotated data matrix of shape n_obs x n_vars.\n",
    "\n",
    "    Returns:\n",
    "        None: Modifies the input AnnData object in-place by adding QC metrics to `adata.obs` and `adata.var`.\n",
    "    \"\"\"\n",
    "\n",
    "    sc.pp.calculate_qc_metrics(\n",
    "        adata,\n",
    "        inplace=True,\n",
    "        percent_top=None,\n",
    "    )\n",
    "\n",
    "    adata.var_names_make_unique()\n",
    "    adata.obs_names_make_unique()\n",
    "\n",
    "    sc.pp.filter_cells(adata, min_counts=500)\n",
    "    return\n",
    "\n",
    "\n",
    "# Run QC metrics on each dataset\n",
    "for adata in adatas.values():\n",
    "    run_qc_metrics(adata)\n",
    "    print(adata)"
   ]
  },
  {
   "cell_type": "markdown",
   "id": "25893f20",
   "metadata": {},
   "source": [
    "### Save AnnDatas to File"
   ]
  },
  {
   "cell_type": "code",
   "execution_count": 6,
   "id": "bc6d3e2b",
   "metadata": {},
   "outputs": [
    {
     "name": "stdout",
     "output_type": "stream",
     "text": [
      "Saved SF_N_adata to ./data/analysis/adatas/adatas_X_filtered_cells_raw/SF_N_adata.h5ad\n",
      "Saved SL_N_adata to ./data/analysis/adatas/adatas_X_filtered_cells_raw/SL_N_adata.h5ad\n",
      "Saved SF_T_adata to ./data/analysis/adatas/adatas_X_filtered_cells_raw/SF_T_adata.h5ad\n",
      "Saved SL_T_adata to ./data/analysis/adatas/adatas_X_filtered_cells_raw/SL_T_adata.h5ad\n",
      "Saved SF_LN_adata to ./data/analysis/adatas/adatas_X_filtered_cells_raw/SF_LN_adata.h5ad\n",
      "Saved SL_LN_adata to ./data/analysis/adatas/adatas_X_filtered_cells_raw/SL_LN_adata.h5ad\n"
     ]
    }
   ],
   "source": [
    "# Save each AnnData object to file in the analysis directory\n",
    "for key, (folder, tissue, protocol) in samples.items():\n",
    "    out_path = os.path.join(OUTPUT_ADATA_DIR, f\"{key}_adata.h5ad\")\n",
    "    adatas[key].write(out_path)\n",
    "    print(f\"Saved {key}_adata to {out_path}\")"
   ]
  }
 ],
 "metadata": {
  "kernelspec": {
   "display_name": "benchmarking_template",
   "language": "python",
   "name": "python3"
  },
  "language_info": {
   "codemirror_mode": {
    "name": "ipython",
    "version": 3
   },
   "file_extension": ".py",
   "mimetype": "text/x-python",
   "name": "python",
   "nbconvert_exporter": "python",
   "pygments_lexer": "ipython3",
   "version": "3.12.11"
  }
 },
 "nbformat": 4,
 "nbformat_minor": 5
}
