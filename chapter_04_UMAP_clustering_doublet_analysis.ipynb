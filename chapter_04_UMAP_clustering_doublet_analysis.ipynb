{
 "cells": [
  {
   "cell_type": "markdown",
   "id": "93607124",
   "metadata": {},
   "source": [
    "# Chapter 04 — UMAP Clustering and Doublet analysis\n",
    "\n",
    "## Objective\n",
    "\n",
    "In this chapter, we load all single-nucleus RNA-seq datasets required for benchmarking the **Singulator + FACS** and **Singulator + LeviCell** protocols. We also verify metadata consistency, perform basic integrity checks, and prepare the data objects for downstream analysis.\n",
    "\n",
    "This includes:\n",
    "\n",
    "- Locating the data on the shared filesystem (Iris)\n",
    "- Loading raw count matrices (e.g., `filtered_feature_bc_matrix.h5` from 10X)\n",
    "- Loading data into `AnnData` objects\n",
    "\n",
    "## Data Source\n",
    "\n",
    "The data for this benchmarking project is stored on the **Iris** HPC filesystem under:\n",
    "\n",
    "`/data1/collab002/sail/isabl/datalake/prod/010/collaborators/SAIL/projects/singulator_debris_removal_and/experiments`\n",
    "\n",
    "We will be working with the data under identifier `MB-4027_*`\n"
   ]
  },
  {
   "cell_type": "markdown",
   "id": "da937993",
   "metadata": {},
   "source": [
    "## Core Imports"
   ]
  },
  {
   "cell_type": "code",
   "execution_count": 1,
   "id": "562965c8",
   "metadata": {},
   "outputs": [],
   "source": [
    "import os\n",
    "import scanpy as sc\n",
    "import pandas as pd\n",
    "import seaborn as sns\n",
    "import matplotlib as mpl\n",
    "import matplotlib.pyplot as plt\n",
    "import numpy as np\n",
    "from typing import Callable, Dict, List, Union"
   ]
  },
  {
   "cell_type": "markdown",
   "id": "3778f5ea",
   "metadata": {},
   "source": [
    "## File Paths and Metadata"
   ]
  },
  {
   "cell_type": "code",
   "execution_count": 2,
   "id": "39a02414",
   "metadata": {},
   "outputs": [],
   "source": [
    "# Constants\n",
    "DATA_DIR = \"./data\"\n",
    "READ_ONLY_DIR = os.path.join(DATA_DIR, \"read_only\")\n",
    "FIGURES_OUTPUT_DIR = os.path.join(DATA_DIR, \"figures\", \"chapter_04_UMAP_clustering_doublet_analysis\")\n",
    "\n",
    "# Make sure figures output directory exists\n",
    "os.makedirs(FIGURES_OUTPUT_DIR, exist_ok=True)\n",
    "\n",
    "ANALYSIS_DIR = os.path.join(DATA_DIR, \"analysis\")\n",
    "ADATA_DIR = os.path.join(ANALYSIS_DIR, \"adatas\")\n",
    "\n",
    "# Make sure figures output directory exists\n",
    "os.makedirs(FIGURES_OUTPUT_DIR, exist_ok=True)\n",
    "\n",
    "# Sample metadata - in data/metadata.tsv\n",
    "samples = {\n",
    "    \"SF_N\":  (\"MB-4027_SF_N\",  \"Normal Colon\", \"Singulator+FACS\"),\n",
    "    \"SL_N\":  (\"MB-4027_SL_N\",  \"Normal Colon\", \"Singulator+LeviCell\"),\n",
    "    \"SF_T\":  (\"MB-4027_SF_T\",  \"Tumor Colon\",  \"Singulator+FACS\"),\n",
    "    \"SL_T\":  (\"MB-4027_SL_T\",  \"Tumor Colon\",  \"Singulator+LeviCell\"),\n",
    "    \"SF_LN\": (\"MB-4027_SF_LN\", \"Normal Liver\", \"Singulator+FACS\"),\n",
    "    \"SL_LN\": (\"MB-4027_SL_LN\", \"Normal Liver\", \"Singulator+LeviCell\"),\n",
    "}\n",
    "\n",
    "# Color palette for plotting\n",
    "protocol_color_palette = {\n",
    "    \"Singulator+FACS\": \"#AEC6CF\",\n",
    "    \"Singulator+LeviCell\": \"#FFDAB9\",\n",
    "}\n"
   ]
  },
  {
   "cell_type": "markdown",
   "id": "7246359f",
   "metadata": {},
   "source": [
    "## Read in AnnDatas"
   ]
  },
  {
   "cell_type": "code",
   "execution_count": 3,
   "id": "948c37df",
   "metadata": {},
   "outputs": [
    {
     "name": "stdout",
     "output_type": "stream",
     "text": [
      "SF_N: AnnData object with n_obs × n_vars = 7179 × 38606\n",
      "    obs: 'n_genes_by_counts', 'log1p_n_genes_by_counts', 'total_counts', 'log1p_total_counts', 'total_counts_mitochondrial', 'pct_counts_mitochondrial', 'total_counts_ribosomal', 'pct_counts_ribosomal', 'total_counts_apoptosis', 'pct_counts_apoptosis', 'total_counts_housekeeping', 'pct_counts_housekeeping'\n",
      "    var: 'gene_ids', 'feature_types', 'genome', 'n_cells_by_counts', 'mean_counts', 'log1p_mean_counts', 'pct_dropout_by_counts', 'total_counts', 'log1p_total_counts', 'mitochondrial', 'ribosomal', 'apoptosis', 'housekeeping'\n",
      "SL_N: AnnData object with n_obs × n_vars = 7929 × 38606\n",
      "    obs: 'n_genes_by_counts', 'log1p_n_genes_by_counts', 'total_counts', 'log1p_total_counts', 'total_counts_mitochondrial', 'pct_counts_mitochondrial', 'total_counts_ribosomal', 'pct_counts_ribosomal', 'total_counts_apoptosis', 'pct_counts_apoptosis', 'total_counts_housekeeping', 'pct_counts_housekeeping'\n",
      "    var: 'gene_ids', 'feature_types', 'genome', 'n_cells_by_counts', 'mean_counts', 'log1p_mean_counts', 'pct_dropout_by_counts', 'total_counts', 'log1p_total_counts', 'mitochondrial', 'ribosomal', 'apoptosis', 'housekeeping'\n",
      "SF_T: AnnData object with n_obs × n_vars = 7146 × 38606\n",
      "    obs: 'n_genes_by_counts', 'log1p_n_genes_by_counts', 'total_counts', 'log1p_total_counts', 'total_counts_mitochondrial', 'pct_counts_mitochondrial', 'total_counts_ribosomal', 'pct_counts_ribosomal', 'total_counts_apoptosis', 'pct_counts_apoptosis', 'total_counts_housekeeping', 'pct_counts_housekeeping'\n",
      "    var: 'gene_ids', 'feature_types', 'genome', 'n_cells_by_counts', 'mean_counts', 'log1p_mean_counts', 'pct_dropout_by_counts', 'total_counts', 'log1p_total_counts', 'mitochondrial', 'ribosomal', 'apoptosis', 'housekeeping'\n",
      "SL_T: AnnData object with n_obs × n_vars = 8593 × 38606\n",
      "    obs: 'n_genes_by_counts', 'log1p_n_genes_by_counts', 'total_counts', 'log1p_total_counts', 'total_counts_mitochondrial', 'pct_counts_mitochondrial', 'total_counts_ribosomal', 'pct_counts_ribosomal', 'total_counts_apoptosis', 'pct_counts_apoptosis', 'total_counts_housekeeping', 'pct_counts_housekeeping'\n",
      "    var: 'gene_ids', 'feature_types', 'genome', 'n_cells_by_counts', 'mean_counts', 'log1p_mean_counts', 'pct_dropout_by_counts', 'total_counts', 'log1p_total_counts', 'mitochondrial', 'ribosomal', 'apoptosis', 'housekeeping'\n",
      "SF_LN: AnnData object with n_obs × n_vars = 5165 × 38606\n",
      "    obs: 'n_genes_by_counts', 'log1p_n_genes_by_counts', 'total_counts', 'log1p_total_counts', 'total_counts_mitochondrial', 'pct_counts_mitochondrial', 'total_counts_ribosomal', 'pct_counts_ribosomal', 'total_counts_apoptosis', 'pct_counts_apoptosis', 'total_counts_housekeeping', 'pct_counts_housekeeping'\n",
      "    var: 'gene_ids', 'feature_types', 'genome', 'n_cells_by_counts', 'mean_counts', 'log1p_mean_counts', 'pct_dropout_by_counts', 'total_counts', 'log1p_total_counts', 'mitochondrial', 'ribosomal', 'apoptosis', 'housekeeping'\n",
      "SL_LN: AnnData object with n_obs × n_vars = 8836 × 38606\n",
      "    obs: 'n_genes_by_counts', 'log1p_n_genes_by_counts', 'total_counts', 'log1p_total_counts', 'total_counts_mitochondrial', 'pct_counts_mitochondrial', 'total_counts_ribosomal', 'pct_counts_ribosomal', 'total_counts_apoptosis', 'pct_counts_apoptosis', 'total_counts_housekeeping', 'pct_counts_housekeeping'\n",
      "    var: 'gene_ids', 'feature_types', 'genome', 'n_cells_by_counts', 'mean_counts', 'log1p_mean_counts', 'pct_dropout_by_counts', 'total_counts', 'log1p_total_counts', 'mitochondrial', 'ribosomal', 'apoptosis', 'housekeeping'\n"
     ]
    }
   ],
   "source": [
    "# Load AnnData objects\n",
    "adatas = {}\n",
    "adata_metadata = {}\n",
    "adata_tissues = []\n",
    "\n",
    "for key, (folder, tissue, protocol) in samples.items():\n",
    "    file_path = os.path.join(ADATA_DIR, f\"{key}_adata.h5ad\")\n",
    "    adata = sc.read_h5ad(file_path)\n",
    "    adatas[key] = adata\n",
    "    adata_metadata[key] = (tissue, protocol)\n",
    "    adata_tissues.append(tissue)\n",
    "    print(f\"{key}: {adata}\")"
   ]
  },
  {
   "cell_type": "markdown",
   "id": "4a77a61d",
   "metadata": {},
   "source": [
    "## Doublet Detection"
   ]
  },
  {
   "cell_type": "code",
   "execution_count": 6,
   "id": "56cee879",
   "metadata": {},
   "outputs": [
    {
     "name": "stdout",
     "output_type": "stream",
     "text": [
      "Running Scrublet on SF_N...\n"
     ]
    },
    {
     "name": "stderr",
     "output_type": "stream",
     "text": [
      "adata.X seems to be already log-transformed.\n"
     ]
    },
    {
     "name": "stdout",
     "output_type": "stream",
     "text": [
      "Running Scrublet on SL_N...\n"
     ]
    },
    {
     "name": "stderr",
     "output_type": "stream",
     "text": [
      "adata.X seems to be already log-transformed.\n"
     ]
    },
    {
     "name": "stdout",
     "output_type": "stream",
     "text": [
      "Running Scrublet on SF_T...\n"
     ]
    },
    {
     "name": "stderr",
     "output_type": "stream",
     "text": [
      "adata.X seems to be already log-transformed.\n"
     ]
    },
    {
     "name": "stdout",
     "output_type": "stream",
     "text": [
      "Running Scrublet on SL_T...\n"
     ]
    },
    {
     "name": "stderr",
     "output_type": "stream",
     "text": [
      "adata.X seems to be already log-transformed.\n"
     ]
    },
    {
     "name": "stdout",
     "output_type": "stream",
     "text": [
      "Running Scrublet on SF_LN...\n"
     ]
    },
    {
     "name": "stderr",
     "output_type": "stream",
     "text": [
      "adata.X seems to be already log-transformed.\n"
     ]
    },
    {
     "name": "stdout",
     "output_type": "stream",
     "text": [
      "Running Scrublet on SL_LN...\n"
     ]
    },
    {
     "name": "stderr",
     "output_type": "stream",
     "text": [
      "adata.X seems to be already log-transformed.\n"
     ]
    }
   ],
   "source": [
    "def run_scrublet(adata : sc.AnnData) -> None:\n",
    "    \"\"\"\n",
    "    Run Scrublet doublet detection on the given AnnData object.\n",
    "    \n",
    "    Parameters:\n",
    "    adata (sc.AnnData): The AnnData object to analyze.\n",
    "    \"\"\"\n",
    "    sc.pp.scrublet(adata, sim_doublet_ratio=2.0, expected_doublet_rate=0.06, \n",
    "                knn_dist_metric='euclidean', log_transform=True, n_prin_comps=30, \n",
    "                random_state=0) # From Roshan's workshop\n",
    "    \n",
    "for key, adata in adatas.items():\n",
    "    print(f\"Running Scrublet on {key}...\")\n",
    "    run_scrublet(adata)"
   ]
  },
  {
   "cell_type": "markdown",
   "id": "bb2fcec1",
   "metadata": {},
   "source": [
    "## Preprocessing and Graph Computation"
   ]
  },
  {
   "cell_type": "code",
   "execution_count": 5,
   "id": "474515aa",
   "metadata": {},
   "outputs": [
    {
     "ename": "KeyError",
     "evalue": "'downsampled_umi'",
     "output_type": "error",
     "traceback": [
      "\u001b[31m---------------------------------------------------------------------------\u001b[39m",
      "\u001b[31mKeyError\u001b[39m                                  Traceback (most recent call last)",
      "\u001b[36mCell\u001b[39m\u001b[36m \u001b[39m\u001b[32mIn[5]\u001b[39m\u001b[32m, line 4\u001b[39m\n\u001b[32m      2\u001b[39m \u001b[38;5;28;01mfor\u001b[39;00m key, adata \u001b[38;5;129;01min\u001b[39;00m adatas.items():\n\u001b[32m      3\u001b[39m     adata.layers[\u001b[33m\"\u001b[39m\u001b[33mraw_data\u001b[39m\u001b[33m\"\u001b[39m] = adata.X.copy()\n\u001b[32m----> \u001b[39m\u001b[32m4\u001b[39m     adata.X = \u001b[43madata\u001b[49m\u001b[43m.\u001b[49m\u001b[43mlayers\u001b[49m\u001b[43m[\u001b[49m\u001b[33;43m\"\u001b[39;49m\u001b[33;43mdownsampled_umi\u001b[39;49m\u001b[33;43m\"\u001b[39;49m\u001b[43m]\u001b[49m.copy()\n\u001b[32m      5\u001b[39m     sc.pp.filter_cells(adata, min_counts=\u001b[32m1\u001b[39m) \u001b[38;5;66;03m# Ensure no cells with zero counts\u001b[39;00m\n\u001b[32m      6\u001b[39m     sc.pp.normalize_total(adata, target_sum=\u001b[38;5;28;01mNone\u001b[39;00m, inplace=\u001b[38;5;28;01mTrue\u001b[39;00m) \u001b[38;5;66;03m# From both Roshan and sc-best-practices\u001b[39;00m\n",
      "\u001b[36mFile \u001b[39m\u001b[32m/usersoftware/peerd/ghoshr/.conda/envs/benchmarking_template/lib/python3.12/site-packages/anndata/_core/aligned_mapping.py:211\u001b[39m, in \u001b[36mAlignedActual.__getitem__\u001b[39m\u001b[34m(self, key)\u001b[39m\n\u001b[32m    210\u001b[39m \u001b[38;5;28;01mdef\u001b[39;00m\u001b[38;5;250m \u001b[39m\u001b[34m__getitem__\u001b[39m(\u001b[38;5;28mself\u001b[39m, key: \u001b[38;5;28mstr\u001b[39m) -> Value:\n\u001b[32m--> \u001b[39m\u001b[32m211\u001b[39m     \u001b[38;5;28;01mreturn\u001b[39;00m \u001b[38;5;28;43mself\u001b[39;49m\u001b[43m.\u001b[49m\u001b[43m_data\u001b[49m\u001b[43m[\u001b[49m\u001b[43mkey\u001b[49m\u001b[43m]\u001b[49m\n",
      "\u001b[31mKeyError\u001b[39m: 'downsampled_umi'"
     ]
    }
   ],
   "source": [
    "# Use downsampled reads for analysis\n",
    "for key, adata in adatas.items():\n",
    "    adata.layers[\"raw_data\"] = adata.X.copy()\n",
    "    adata.X = adata.layers[\"downsampled_umi\"].copy()\n",
    "    sc.pp.filter_cells(adata, min_counts=1) # Ensure no cells with zero counts\n",
    "    sc.pp.normalize_total(adata, target_sum=None, inplace=True) # From both Roshan and sc-best-practices\n",
    "    sc.pp.log1p(adata)\n",
    "\n",
    "# Combine adatas by tissue\n",
    "combined_by_tissue = {}\n",
    "for tissue in adata_tissues:\n",
    "    tissue_adatas = []\n",
    "    for key, (tissue_name, protocol) in adata_metadata.items():\n",
    "        if tissue_name == tissue:\n",
    "            adata = adatas[key].copy()\n",
    "            adata.obs[\"protocol\"] = protocol\n",
    "            adata.obs[\"tissue\"] = tissue\n",
    "            adata.obs[\"sample\"] = key\n",
    "            tissue_adatas.append(adata)\n",
    "\n",
    "    combined = sc.concat(\n",
    "        tissue_adatas, \n",
    "        label=\"sample\", \n",
    "        keys=[a.obs['sample'].iloc[0] for a in tissue_adatas]\n",
    "    )\n",
    "\n",
    "    # Make obs and var names unique\n",
    "    combined.obs_names_make_unique()\n",
    "    combined.var_names_make_unique()\n",
    "    \n",
    "    # Filter cells and genes\n",
    "    sc.pp.filter_cells(combined, min_genes=20) # From (https://www.sc-best-practices.org/preprocessing_visualization/quality_control.html)\n",
    "    sc.pp.filter_genes(combined, min_cells=np.exp(4)) # From Roshan's workshop\n",
    "    \n",
    "    # Compute graphs\n",
    "    sc.pp.highly_variable_genes(\n",
    "        combined, \n",
    "        flavor=\"seurat_v3\", \n",
    "        n_top_genes=4000, \n",
    "        batch_key=\"protocol\", \n",
    "        layer=\"raw_data\"\n",
    "    ) # Using batch_key to account for protocol differences - want to keep genes that are variable across both protocols\n",
    "    sc.pp.pca(combined, n_comps=None, use_highly_variable=True, random_state=0) #  Roshan's workshop used 100 comps, but this took long - if set to None, \"Defaults to 50, or 1 - minimum dimension size of selected representation.\"\n",
    "    sc.pp.neighbors(combined, n_neighbors=30, use_rep='X_pca', metric='euclidean', random_state=0) # From Roshan's workshop\n",
    "\n",
    "    # Compute UMAP and clustering\n",
    "    sc.tl.umap(combined, min_dist=0.1, random_state=0) # From Roshan's workshop\n",
    "    sc.tl.leiden(combined, resolution = 1, random_state=0) # From Roshan's workshop\n",
    "\n",
    "    combined_by_tissue[tissue] = combined\n"
   ]
  },
  {
   "cell_type": "markdown",
   "id": "cf66f344",
   "metadata": {},
   "source": [
    " ## Plot UMAPs by Protocol and Library Size\n"
   ]
  },
  {
   "cell_type": "markdown",
   "id": "36789a54",
   "metadata": {},
   "source": [
    "### Plotting Functions"
   ]
  },
  {
   "cell_type": "code",
   "execution_count": null,
   "id": "515a4998",
   "metadata": {},
   "outputs": [],
   "source": [
    "def plot_umap_by_obs_feature(\n",
    "    combined_by_tissue: Dict[str, sc.AnnData],\n",
    "    feature: str,\n",
    "    color_palette: Union[Dict[str, str], str] = \"viridis\",\n",
    "    title: str = None,\n",
    "    size: float = 8.0,\n",
    "    alpha: float = 0.8\n",
    ") -> plt.Figure:\n",
    "    \"\"\"\n",
    "    Plots UMAPs for each tissue colored by a feature in .obs.\n",
    "\n",
    "    Args:\n",
    "        combined_by_tissue (dict): Dictionary of AnnData objects per tissue.\n",
    "        feature (str): Column in .obs to plot (categorical or continuous).\n",
    "        color_palette (dict or str): Dict for categorical features or colormap name for continuous.\n",
    "        title (str): Figure title.\n",
    "        size (float): Dot size.\n",
    "        alpha (float): Dot transparency.\n",
    "\n",
    "    Returns:\n",
    "        plt.Figure: The generated figure.\n",
    "    \"\"\"\n",
    "    sns.set_theme(style=\"white\")\n",
    "    sample_tissues = set(combined_by_tissue.keys())\n",
    "    n_tissues = len(sample_tissues)\n",
    "    fig, axes = plt.subplots(1, n_tissues, figsize=(6 * n_tissues, 5), squeeze=False)\n",
    "\n",
    "    for i, tissue in enumerate(sample_tissues):\n",
    "        ax = axes[0, i]\n",
    "        adata = combined_by_tissue[tissue]\n",
    "\n",
    "        coords = adata.obsm[\"X_umap\"]\n",
    "        values = adata.obs[feature].copy()\n",
    "\n",
    "        # Shuffle to avoid overplotting\n",
    "        shuffled_idx = np.random.permutation(adata.n_obs)\n",
    "        coords = coords[shuffled_idx]\n",
    "        values = values.iloc[shuffled_idx]\n",
    "\n",
    "        if isinstance(color_palette, dict) or values.dtype.name == \"category\" or values.dtype == object:\n",
    "            # Categorical case\n",
    "            sns.scatterplot(\n",
    "                x=coords[:, 0], y=coords[:, 1],\n",
    "                hue=values,\n",
    "                palette=color_palette if isinstance(color_palette, dict) else \"tab20\",\n",
    "                ax=ax, s=size, alpha=alpha, linewidth=0\n",
    "            )\n",
    "            ax.legend_.remove()  # suppress per-plot legends; add a global legend later\n",
    "        else:\n",
    "            # Continuous case\n",
    "            scatter = ax.scatter(\n",
    "                coords[:, 0], coords[:, 1],\n",
    "                c=values,\n",
    "                cmap=color_palette,\n",
    "                s=size,\n",
    "                alpha=alpha,\n",
    "                linewidths=0\n",
    "            )\n",
    "            plt.colorbar(scatter, ax=ax, fraction=0.046, pad=0.04)\n",
    "\n",
    "        ax.set_title(tissue)\n",
    "        ax.set_xlabel(\"UMAP1\")\n",
    "        ax.set_ylabel(\"UMAP2\" if i == 0 else \"\")\n",
    "        ax.set_xticks([])\n",
    "        ax.set_yticks([])\n",
    "\n",
    "    if isinstance(color_palette, dict) or values.dtype.name == \"category\" or values.dtype == object:\n",
    "        # Global categorical legend\n",
    "        unique_vals = sorted(values.dropna().unique())\n",
    "        legend_elements = [\n",
    "            mpl.patches.Patch(facecolor=color_palette.get(val, \"gray\"), label=val)\n",
    "            for val in unique_vals\n",
    "        ]\n",
    "        fig.legend(\n",
    "            handles=legend_elements,\n",
    "            title=feature,\n",
    "            loc=\"upper right\",\n",
    "            bbox_to_anchor=(1.05, 1.05),\n",
    "            fontsize='small',\n",
    "            title_fontsize='medium'\n",
    "        )\n",
    "\n",
    "    plt.suptitle(title or f\"UMAP Colored by {feature}\", fontsize=16, weight=\"bold\")\n",
    "    plt.tight_layout(rect=[0, 0, 1, 0.95])\n",
    "    return fig"
   ]
  },
  {
   "cell_type": "markdown",
   "id": "73c2b7c1",
   "metadata": {},
   "source": [
    "### Plot by Protocol"
   ]
  },
  {
   "cell_type": "code",
   "execution_count": null,
   "id": "e27cb520",
   "metadata": {},
   "outputs": [],
   "source": [
    "# Plot UMAP colored by protocol\n",
    "fig = plot_umap_by_obs_feature(\n",
    "    combined_by_tissue = combined_by_tissue,\n",
    "    feature = \"protocol\",\n",
    "    color_palette = protocol_color_palette,\n",
    ")\n",
    "\n",
    "# Save the figure\n",
    "fig.savefig(os.path.join(FIGURES_OUTPUT_DIR, \"umap_by_protocol.png\"), bbox_inches=\"tight\")"
   ]
  },
  {
   "cell_type": "markdown",
   "id": "853b938a",
   "metadata": {},
   "source": [
    "### Plot by Library Size"
   ]
  },
  {
   "cell_type": "code",
   "execution_count": null,
   "id": "1d49e8bd",
   "metadata": {},
   "outputs": [],
   "source": [
    "# Plot UMAP colored by library szie\n",
    "plot_umap_by_obs_feature(\n",
    "    combined_by_tissue = combined_by_tissue,\n",
    "    feature = \"total_counts\",\n",
    "    color_palette = \"viridis\",\n",
    ")\n",
    "\n",
    "# Save the figure\n",
    "fig.savefig(os.path.join(FIGURES_OUTPUT_DIR, \"umap_by_library_size.png\"), bbox_inches=\"tight\")"
   ]
  },
  {
   "cell_type": "markdown",
   "id": "6c55ec87",
   "metadata": {},
   "source": [
    "### Plot by Leiden Cluster"
   ]
  },
  {
   "cell_type": "code",
   "execution_count": null,
   "id": "39763b1b",
   "metadata": {},
   "outputs": [],
   "source": [
    "# Plot UMAP colored by leiden cluster\n",
    "plot_umap_by_obs_feature(\n",
    "    combined_by_tissue = combined_by_tissue,\n",
    "    feature = \"leiden\",\n",
    "    color_palette = \"tab20\",\n",
    ")\n",
    "\n",
    "# Save the figure\n",
    "fig.savefig(os.path.join(FIGURES_OUTPUT_DIR, \"umap_by_leiden.png\"), bbox_inches=\"tight\")"
   ]
  },
  {
   "cell_type": "code",
   "execution_count": null,
   "id": "7cb1286c",
   "metadata": {},
   "outputs": [],
   "source": [
    "# Function to plot a scalar metric from multiple AnnData objects and create a subplot for each unique tissue.\n",
    "\n",
    "def adaptive_formatter(x, _):\n",
    "    \"\"\"\n",
    "    Formats large numeric values for axis tick labels using adaptive human-readable notation.\n",
    "\n",
    "    - Values ≥ 1,000,000 are shown with 'M' (e.g., 2,500,000 → '2.5M')\n",
    "    - Values < 1,000,000 are shown as plain integers (e.g., 42,000 → '42000')\n",
    "    \"\"\"\n",
    "    if x >= 1e6:\n",
    "        return f\"{x / 1e6:.1f}M\"\n",
    "    else:\n",
    "        return f\"{int(x)}\"\n",
    "\n",
    "def plot_adata_scalar_metric(\n",
    "    adatas: dict,\n",
    "    adata_metadata: dict,\n",
    "    metric_func: Callable,\n",
    "    metric_label: str,\n",
    "    protocol_color_palette: dict,\n",
    ") -> None:\n",
    "    \"\"\"\n",
    "    Plots a scalar metric computed on each AnnData object, grouped by tissue and protocol. Will create as many subplots as there are unique tissues.\n",
    "    The metric function should return a scalar value for each AnnData object.\n",
    "    The metric label is used for the Y-axis and title, and the color palette maps protocol names to colors.\n",
    "    The function uses adaptive formatting for the Y-axis to handle large numbers (e.g., millions and thousands).\n",
    "    It also annotates the bars with the actual values for clarity.\n",
    "\n",
    "    Args:\n",
    "        adatas: dict of AnnData objects keyed by sample ID\n",
    "        adata_metadata: dict of (tissue, protocol) tuples keyed by sample ID\n",
    "        metric_func: function that takes an AnnData object and returns a scalar\n",
    "        metric_label: label to show on the Y-axis and title (e.g., \"Total Reads\")\n",
    "        protocol_color_palette: mapping of protocol name to color\n",
    "    Returns:\n",
    "        fig: matplotlib figure object containing the plot\n",
    "    \"\"\"\n",
    "    # Assemble data\n",
    "    rows = []\n",
    "    for key, adata in adatas.items():\n",
    "        tissue, protocol = adata_metadata[key]\n",
    "        value = metric_func(adata)\n",
    "        rows.append({\n",
    "            \"Tissue\": tissue,\n",
    "            \"Protocol\": protocol,\n",
    "            \"Value\": value\n",
    "        })\n",
    "    df = pd.DataFrame(rows)\n",
    "\n",
    "    # Determine unique tissues (to define subplots)\n",
    "    unique_tissues = df[\"Tissue\"].unique()\n",
    "\n",
    "    # Plot setup\n",
    "    sns.set_theme(style=\"white\", font_scale=1.1)\n",
    "    fig, axes = plt.subplots(1, len(unique_tissues), figsize=(5 * len(unique_tissues), 5), sharey=True)\n",
    "\n",
    "    if len(unique_tissues) == 1:\n",
    "        axes = [axes]  # Ensure axes is always iterable\n",
    "\n",
    "    for i, tissue in enumerate(unique_tissues):\n",
    "        ax = axes[i]\n",
    "        sns.barplot(\n",
    "            data=df[df[\"Tissue\"] == tissue],\n",
    "            x=\"Protocol\",\n",
    "            y=\"Value\",\n",
    "            hue=\"Protocol\",\n",
    "            palette=protocol_color_palette,\n",
    "            legend=False,\n",
    "            ax=ax\n",
    "        )\n",
    "        ax.set_title(tissue, fontsize=13, weight=\"bold\")\n",
    "        ax.set_xlabel(\"\")\n",
    "        ax.set_ylabel(metric_label if i == 0 else \"\")\n",
    "        ax.yaxis.set_major_formatter(mpl.ticker.FuncFormatter(adaptive_formatter))\n",
    "\n",
    "        for p in ax.patches:\n",
    "            val = p.get_height()\n",
    "            ax.annotate(f\"{int(val):,}\",\n",
    "                        (p.get_x() + p.get_width() / 2., val),\n",
    "                        ha=\"center\", va=\"bottom\", fontsize=10, weight=\"bold\")\n",
    "\n",
    "    plt.suptitle(f\"{metric_label} by Protocol Across Tissues\", fontsize=16, weight=\"bold\")\n",
    "    plt.tight_layout(rect=[0, 0, 1, 0.95])\n",
    "    legend_elements = [mpl.patches.Patch(facecolor=color, label=label) for label, color in protocol_color_palette.items()]\n",
    "    fig.legend(handles=legend_elements, title=\"Protocol\", loc=\"upper right\", bbox_to_anchor=(1.05, 1.05))\n",
    "    return fig"
   ]
  },
  {
   "cell_type": "markdown",
   "id": "88fc77b9",
   "metadata": {},
   "source": [
    "### Clusters by Protocol"
   ]
  },
  {
   "cell_type": "code",
   "execution_count": null,
   "id": "db97d332",
   "metadata": {},
   "outputs": [],
   "source": [
    "# source ids per cluster\n",
    "df_cluster_count = adata_filtered.obs.groupby([\"source_id\", \"leiden_granular_2\"], observed=True).size().reset_index()\n",
    "df_wide = df_cluster_count.pivot(index=\"leiden_granular_2\", columns=\"source_id\", values=0).reset_index()\n",
    "df_wide.loc[:, \"pool1_norm\"] = df_wide.pool1 / df_wide[[\"pool1\", \"pool2\"]].sum(axis=1)\n",
    "df_wide.loc[:, \"pool2_norm\"] = 1\n",
    "\n",
    "# make a stacked barplot of\n",
    "ax = sns.barplot(df_wide, x=\"leiden_granular_2\", y=\"pool2_norm\", label=\"pool 2\")\n",
    "ax = sns.barplot(df_wide, x=\"leiden_granular_2\", y=\"pool1_norm\", label=\"pool 1\")\n",
    "ax.set_title(\"Cluster Proportions\")\n",
    "plt.legend(bbox_to_anchor=(1.2, 1), loc=\"upper right\")"
   ]
  },
  {
   "cell_type": "markdown",
   "id": "cb21062a",
   "metadata": {},
   "source": [
    "### Plot by Doublets"
   ]
  },
  {
   "cell_type": "code",
   "execution_count": null,
   "id": "7078ad22",
   "metadata": {},
   "outputs": [
    {
     "ename": "NameError",
     "evalue": "name 'plot_umap_by_obs_feature' is not defined",
     "output_type": "error",
     "traceback": [
      "\u001b[31m---------------------------------------------------------------------------\u001b[39m",
      "\u001b[31mNameError\u001b[39m                                 Traceback (most recent call last)",
      "\u001b[36mCell\u001b[39m\u001b[36m \u001b[39m\u001b[32mIn[7]\u001b[39m\u001b[32m, line 1\u001b[39m\n\u001b[32m----> \u001b[39m\u001b[32m1\u001b[39m \u001b[43mplot_umap_by_obs_feature\u001b[49m(\n\u001b[32m      2\u001b[39m     combined_by_tissue = combined_by_tissue,\n\u001b[32m      3\u001b[39m     feature = \u001b[33m\"\u001b[39m\u001b[33mpredicted_doublet\u001b[39m\u001b[33m\"\u001b[39m,\n\u001b[32m      4\u001b[39m     color_palette = \u001b[33m\"\u001b[39m\u001b[33mrocket\u001b[39m\u001b[33m\"\u001b[39m,\n\u001b[32m      5\u001b[39m )\n",
      "\u001b[31mNameError\u001b[39m: name 'plot_umap_by_obs_feature' is not defined"
     ]
    }
   ],
   "source": [
    "# Plot UMAP colored by predicted doublets\n",
    "plot_umap_by_obs_feature(\n",
    "    combined_by_tissue = combined_by_tissue,\n",
    "    feature = \"predicted_doublet\",\n",
    "    color_palette = \"rocket\",\n",
    ")\n",
    "\n",
    "# Save the figure\n",
    "fig.savefig(os.path.join(FIGURES_OUTPUT_DIR, \"umap_by_predicted_doublets.png\"), bbox_inches=\"tight\")"
   ]
  },
  {
   "cell_type": "markdown",
   "id": "f975142b",
   "metadata": {},
   "source": [
    "### Plot by Apoptotic Gene Percentage"
   ]
  },
  {
   "cell_type": "code",
   "execution_count": null,
   "id": "c4151cc5",
   "metadata": {},
   "outputs": [],
   "source": [
    "# Plot UMAP colored by total counts of apoptosis genes\n",
    "plot_umap_by_obs_feature(\n",
    "    combined_by_tissue = combined_by_tissue,\n",
    "    feature = \"total_counts_apoptosis\",\n",
    "    color_palette = \"inferno\",\n",
    ")\n",
    "\n",
    "# Save the figure\n",
    "fig.savefig(os.path.join(FIGURES_OUTPUT_DIR, \"umap_by_total_counts_apoptosis.png\"), bbox_inches=\"tight\")"
   ]
  },
  {
   "cell_type": "markdown",
   "id": "b0f21629",
   "metadata": {},
   "source": [
    "## Cell Typing"
   ]
  },
  {
   "cell_type": "markdown",
   "id": "a875930a",
   "metadata": {},
   "source": [
    "### Normal Liver"
   ]
  },
  {
   "cell_type": "markdown",
   "id": "a4055515",
   "metadata": {},
   "source": [
    "#### CellTypist"
   ]
  },
  {
   "cell_type": "code",
   "execution_count": null,
   "id": "be48aec9",
   "metadata": {},
   "outputs": [],
   "source": [
    "import celltypist\n",
    "\n",
    "cell_predictions = celltypist.annotate(\n",
    "    combined_by_tissue[\"Normal Liver\"],\n",
    "    model = 'Healthy_Human_Liver.pkl',\n",
    "    majority_voting = True,\n",
    "    over_clustering='leiden'\n",
    ")\n",
    "\n",
    "cell_predictions_adata = cell_predictions.to_adata()\n",
    "\n",
    "majority_voting_output_path = os.path.join(FIGURES_OUTPUT_DIR, \"majority_voting_output.png\")\n",
    "\n",
    "sc.pl.umap(cell_predictions_adata, color = 'predicted_labels')\n",
    "sc.pl.umap(cell_predictions_adata, color = 'majority_voting', title = \"Cell Typist Majority Voting (Normal Liver) - using Healthy_Human_Liver.pkl\", save = majority_voting_output_path)\n",
    "sc.pl.umap(cell_predictions_adata, color = 'conf_score')\n"
   ]
  },
  {
   "cell_type": "markdown",
   "id": "f2dc3edd",
   "metadata": {},
   "source": [
    "#### Marker Genes"
   ]
  },
  {
   "cell_type": "code",
   "execution_count": null,
   "id": "024bc099",
   "metadata": {},
   "outputs": [],
   "source": [
    "liver_marker_dict = {\n",
    "    \"Hepatocytes\": [\"APOB\", \"CYP3A4\"], # https://www.nature.com/articles/s42003-022-04046-9\n",
    "    \"Cholangiocytes\": [\"KRT19\", \"CFTR\"], # https://pmc.ncbi.nlm.nih.gov/articles/PMC4315871/\n",
    "    \"Endothelial cells\": [\"PECAM1\", \"CDH5\", \"LDB2\", \"PTPRB\"], # https://www.nature.com/articles/s41467-022-30633-9, CELL x GENE\n",
    "    \"Fibroblasts\": [\"COL1A2\", \"COL5A2\", \"COL6A3\"], # https://pmc.ncbi.nlm.nih.gov/articles/PMC7444611/, CELL x Gene\n",
    "    \"Macrophages\": [\"CD68\", \"C1QA\", \"C1QB\", \"C1QC\"], #https://pmc.ncbi.nlm.nih.gov/articles/PMC10153153/, https://pmc.ncbi.nlm.nih.gov/articles/PMC10849641/\n",
    "    \"Resident NK\": [\"KLRD1\", \"NCAM1\"], #https://www.ncbi.nlm.nih.gov/gene/3824, https://www.frontiersin.org/journals/immunology/articles/10.3389/fimmu.2017.00892/full\n",
    "    \"T cells\": [\"CD3D\", \"CD3E\",\"CD3G\", \"CD2\", \"PTPRC\"], # https://pubmed.ncbi.nlm.nih.gov/39029632/\n",
    "    \"B cells\": [\"CD19\", \"CD79A\", \"CD79B\", \"PTPRC\"], # https://genomebiology.biomedcentral.com/articles/10.1186/s13059-020-02064-6?utm_source=chatgpt.com\n",
    "}"
   ]
  },
  {
   "cell_type": "markdown",
   "id": "3834e5ab",
   "metadata": {},
   "source": [
    "#### Plot Dotplot"
   ]
  },
  {
   "cell_type": "code",
   "execution_count": null,
   "id": "09e69dd5",
   "metadata": {},
   "outputs": [],
   "source": [
    "liver_dp = sc.pl.dotplot(\n",
    "    adata,\n",
    "    var_names=liver_marker_dict,\n",
    "    groupby=\"majority_voting\",\n",
    "    standard_scale=\"var\",\n",
    "    color_map=\"Reds\",\n",
    "    figsize=(10, 6),\n",
    "    dendrogram=True,\n",
    "    show=False\n",
    ")\n",
    "\n",
    "# Set the title on the figure\n",
    "liver_dp.fig.suptitle(\"Liver Marker Gene Expression by Majority Voting\", fontsize=16, weight=\"bold\")\n",
    "\n",
    "# Adjust layout to accommodate the title\n",
    "liver_dp.fig.tight_layout(rect=[0, 0, 1, 0.95])\n",
    "\n",
    "# Save the figure\n",
    "liver_dp.savefig(os.path.join(FIGURES_OUTPUT_DIR, \"normal_liver_marker_gene_dotplot.png\"))\n"
   ]
  },
  {
   "cell_type": "markdown",
   "id": "d4286c27",
   "metadata": {},
   "source": [
    "#### Plot Heatmap"
   ]
  },
  {
   "cell_type": "code",
   "execution_count": null,
   "id": "691cb86a",
   "metadata": {},
   "outputs": [],
   "source": [
    "import os\n",
    "\n",
    "# Create and store the heatmap object\n",
    "liver_hm = sc.pl.heatmap(\n",
    "    adata,\n",
    "    var_names=liver_marker_dict,\n",
    "    groupby=\"majority_voting\",\n",
    "    use_raw=False,\n",
    "    standard_scale=\"var\",\n",
    "    cmap=\"Reds\",\n",
    "    swap_axes=True,\n",
    "    show_gene_labels=True,\n",
    "    var_group_rotation=90,\n",
    "    var_group_labels=liver_marker_dict.keys(),\n",
    "    dendrogram=True,\n",
    "    figsize=(12, 10),\n",
    "    show=False  # Prevent auto display\n",
    ")\n",
    "\n",
    "# Add title\n",
    "liver_hm.fig.suptitle(\"Liver Marker Gene Expression Heatmap by Majority Voting\", fontsize=16, weight=\"bold\")\n",
    "\n",
    "# Adjust layout to make room for title\n",
    "liver_hm.fig.tight_layout(rect=[0, 0, 1, 0.95])\n",
    "\n",
    "# Save the figure\n",
    "liver_hm.savefig(os.path.join(FIGURES_OUTPUT_DIR, \"normal_liver_marker_gene_heatmap.png\"))\n"
   ]
  },
  {
   "cell_type": "markdown",
   "id": "af7f194a",
   "metadata": {},
   "source": [
    "### Normal Colon"
   ]
  },
  {
   "cell_type": "code",
   "execution_count": null,
   "id": "597633a9",
   "metadata": {},
   "outputs": [],
   "source": [
    "colon_marker_dict = {\n",
    "    \"Epithelial\" : [\"EPCAM\", \"KRT8\", \"KRT18\"],\n",
    "    \"Stromal\" : [\"COL6A2\", \"COL6A1\", \"PLVAP\", \"COL1A1\"],\n",
    "    \"Immune\" : [\"PTPRC\", \"CD3E\", \"CD2\", \"CD3D\", \"CD3G\", \"FCER1G\", \"CSF1R\", \"CD14\", \"CD68\", \"CD38\"],\n",
    "}"
   ]
  },
  {
   "cell_type": "code",
   "execution_count": null,
   "id": "e0eaa238",
   "metadata": {},
   "outputs": [],
   "source": []
  }
 ],
 "metadata": {
  "kernelspec": {
   "display_name": "benchmarking_template",
   "language": "python",
   "name": "python3"
  },
  "language_info": {
   "codemirror_mode": {
    "name": "ipython",
    "version": 3
   },
   "file_extension": ".py",
   "mimetype": "text/x-python",
   "name": "python",
   "nbconvert_exporter": "python",
   "pygments_lexer": "ipython3",
   "version": "3.12.11"
  }
 },
 "nbformat": 4,
 "nbformat_minor": 5
}
